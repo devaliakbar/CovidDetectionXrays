{
 "cells": [
  {
   "cell_type": "markdown",
   "id": "4ec4fda2",
   "metadata": {},
   "source": [
    "# InitialSetup"
   ]
  },
  {
   "cell_type": "code",
   "execution_count": 1,
   "id": "8501625f",
   "metadata": {},
   "outputs": [],
   "source": [
    "import os\n",
    "\n",
    "if not os.path.exists('data_set/'):\n",
    "    raise Exception(\"Generated dataset not found, pls run 'SetupDataset' first.\")\n",
    "    \n",
    "if not os.path.exists('OUTPUT/'):\n",
    "    os.makedirs('OUTPUT/')"
   ]
  },
  {
   "cell_type": "code",
   "execution_count": 2,
   "id": "1e3d70ea",
   "metadata": {},
   "outputs": [
    {
     "name": "stderr",
     "output_type": "stream",
     "text": [
      "2023-09-02 12:34:22.876125: I tensorflow/core/platform/cpu_feature_guard.cc:182] This TensorFlow binary is optimized to use available CPU instructions in performance-critical operations.\n",
      "To enable the following instructions: AVX2 FMA, in other operations, rebuild TensorFlow with the appropriate compiler flags.\n"
     ]
    }
   ],
   "source": [
    "import tensorflow as tf\n",
    "from tensorflow.keras.models import Sequential\n",
    "from tensorflow.keras.layers import GlobalAveragePooling2D, Dense\n",
    "from tensorflow.keras.optimizers import Adam"
   ]
  },
  {
   "cell_type": "markdown",
   "id": "07270c5e",
   "metadata": {},
   "source": [
    "# Loading dataset"
   ]
  },
  {
   "cell_type": "code",
   "execution_count": 3,
   "id": "1545771b",
   "metadata": {},
   "outputs": [
    {
     "name": "stdout",
     "output_type": "stream",
     "text": [
      "Found 2485 images belonging to 2 classes.\n",
      "Found 532 images belonging to 2 classes.\n",
      "Found 535 images belonging to 2 classes.\n"
     ]
    }
   ],
   "source": [
    "from keras.preprocessing.image import ImageDataGenerator\n",
    "\n",
    "train_gen = ImageDataGenerator(rescale=1./255, brightness_range=[0.2,1.0], shear_range=0.2,\n",
    "                                    fill_mode = 'nearest', width_shift_range=0.2, rotation_range=40,\n",
    "                                   height_shift_range=0.2, horizontal_flip=True, zoom_range=0.2)\n",
    "training_data = train_gen.flow_from_directory('data_set/train', target_size=(256,256), \n",
    "                                                 batch_size=32, class_mode='binary')\n",
    "\n",
    "val_gen = ImageDataGenerator(rescale=1./255)\n",
    "val_data = val_gen.flow_from_directory('data_set/val', target_size=(256, 256), \n",
    "                                            batch_size=32, class_mode='binary')\n",
    "\n",
    "test_gen = ImageDataGenerator(rescale=1./255)\n",
    "test_data = test_gen.flow_from_directory('data_set/test', target_size=(256, 256), \n",
    "                                            batch_size=32, class_mode='binary')"
   ]
  },
  {
   "cell_type": "markdown",
   "id": "e9eef3f6",
   "metadata": {},
   "source": [
    "# Training"
   ]
  },
  {
   "cell_type": "code",
   "execution_count": 4,
   "id": "71e48b41",
   "metadata": {},
   "outputs": [],
   "source": [
    "IMAGE_SHAPE = (256,256,3)\n",
    "validation_steps = len(val_data)\n",
    "steps_per_epoch = len(training_data)"
   ]
  },
  {
   "cell_type": "code",
   "execution_count": 5,
   "id": "6a233b09",
   "metadata": {},
   "outputs": [],
   "source": [
    "def tune_model(pretrain_model):\n",
    "    classifier = Sequential([\n",
    "        pretrain_model,\n",
    "    \n",
    "        GlobalAveragePooling2D(),\n",
    "    \n",
    "        Dense(256, activation='relu'),\n",
    "        Dense(128, activation='relu'),\n",
    "        Dense(1, activation='sigmoid')\n",
    "    ])\n",
    "    \n",
    "    classifier.compile(optimizer='adam', loss='binary_crossentropy', metrics = ['accuracy'])\n",
    "    \n",
    "    classifier.fit(training_data, epochs=30, steps_per_epoch=steps_per_epoch, workers=1,\n",
    "                    validation_data=val_data, validation_steps=validation_steps)\n",
    "    \n",
    "    return classifier"
   ]
  },
  {
   "cell_type": "markdown",
   "id": "215de317",
   "metadata": {},
   "source": [
    "## ResNet"
   ]
  },
  {
   "cell_type": "code",
   "execution_count": 6,
   "id": "074b15cc",
   "metadata": {},
   "outputs": [],
   "source": [
    "from tensorflow.keras.applications import ResNet152V2\n",
    "\n",
    "res_net = ResNet152V2(input_shape=IMAGE_SHAPE, include_top=False, weights='imagenet')"
   ]
  },
  {
   "cell_type": "code",
   "execution_count": 7,
   "id": "a887d463",
   "metadata": {},
   "outputs": [
    {
     "name": "stdout",
     "output_type": "stream",
     "text": [
      "Epoch 1/30\n"
     ]
    },
    {
     "name": "stderr",
     "output_type": "stream",
     "text": [
      "2023-09-02 12:34:33.259976: I tensorflow/core/common_runtime/executor.cc:1197] [/device:CPU:0] (DEBUG INFO) Executor start aborting (this does not indicate an error and you can ignore this message): INVALID_ARGUMENT: You must feed a value for placeholder tensor 'Placeholder/_0' with dtype int32\n",
      "\t [[{{node Placeholder/_0}}]]\n"
     ]
    },
    {
     "name": "stdout",
     "output_type": "stream",
     "text": [
      "78/78 [==============================] - ETA: 0s - loss: 0.2335 - accuracy: 0.9082 "
     ]
    },
    {
     "name": "stderr",
     "output_type": "stream",
     "text": [
      "2023-09-02 13:10:59.360242: I tensorflow/core/common_runtime/executor.cc:1197] [/device:CPU:0] (DEBUG INFO) Executor start aborting (this does not indicate an error and you can ignore this message): INVALID_ARGUMENT: You must feed a value for placeholder tensor 'Placeholder/_0' with dtype int32\n",
      "\t [[{{node Placeholder/_0}}]]\n"
     ]
    },
    {
     "name": "stdout",
     "output_type": "stream",
     "text": [
      "78/78 [==============================] - 2288s 29s/step - loss: 0.2335 - accuracy: 0.9082 - val_loss: 761.9999 - val_accuracy: 0.6955\n",
      "Epoch 2/30\n",
      "78/78 [==============================] - 2335s 30s/step - loss: 0.1112 - accuracy: 0.9630 - val_loss: 1.3463 - val_accuracy: 0.9117\n",
      "Epoch 3/30\n",
      "78/78 [==============================] - 2260s 29s/step - loss: 0.0954 - accuracy: 0.9686 - val_loss: 134.6133 - val_accuracy: 0.6974\n",
      "Epoch 4/30\n",
      "78/78 [==============================] - 2263s 29s/step - loss: 0.0975 - accuracy: 0.9690 - val_loss: 4.2889 - val_accuracy: 0.7086\n",
      "Epoch 5/30\n",
      "78/78 [==============================] - 2137s 27s/step - loss: 0.0631 - accuracy: 0.9751 - val_loss: 0.2055 - val_accuracy: 0.9643\n",
      "Epoch 6/30\n",
      "78/78 [==============================] - 2111s 27s/step - loss: 0.0605 - accuracy: 0.9807 - val_loss: 1.8950 - val_accuracy: 0.7932\n",
      "Epoch 7/30\n",
      "78/78 [==============================] - 2515s 32s/step - loss: 0.0582 - accuracy: 0.9771 - val_loss: 0.1219 - val_accuracy: 0.9568\n",
      "Epoch 8/30\n",
      "78/78 [==============================] - 2294s 29s/step - loss: 0.0499 - accuracy: 0.9835 - val_loss: 0.4861 - val_accuracy: 0.8722\n",
      "Epoch 9/30\n",
      "78/78 [==============================] - 2107s 27s/step - loss: 0.0749 - accuracy: 0.9767 - val_loss: 1.4740 - val_accuracy: 0.7444\n",
      "Epoch 10/30\n",
      "78/78 [==============================] - 2109s 27s/step - loss: 0.0500 - accuracy: 0.9851 - val_loss: 1.4041 - val_accuracy: 0.7744\n",
      "Epoch 11/30\n",
      "78/78 [==============================] - 2243s 29s/step - loss: 0.0594 - accuracy: 0.9839 - val_loss: 4.0278 - val_accuracy: 0.7143\n",
      "Epoch 12/30\n",
      "78/78 [==============================] - 2192s 28s/step - loss: 0.0513 - accuracy: 0.9815 - val_loss: 0.1271 - val_accuracy: 0.9398\n",
      "Epoch 13/30\n",
      "78/78 [==============================] - 2121s 27s/step - loss: 0.0444 - accuracy: 0.9863 - val_loss: 0.0569 - val_accuracy: 0.9887\n",
      "Epoch 14/30\n",
      "78/78 [==============================] - 2240s 29s/step - loss: 0.0508 - accuracy: 0.9815 - val_loss: 0.9182 - val_accuracy: 0.8252\n",
      "Epoch 15/30\n",
      "78/78 [==============================] - 2385s 30s/step - loss: 0.0572 - accuracy: 0.9807 - val_loss: 1.3795 - val_accuracy: 0.8008\n",
      "Epoch 16/30\n",
      "78/78 [==============================] - 2317s 30s/step - loss: 0.0558 - accuracy: 0.9799 - val_loss: 2.3800 - val_accuracy: 0.7519\n",
      "Epoch 17/30\n",
      "78/78 [==============================] - 2085s 27s/step - loss: 0.0437 - accuracy: 0.9839 - val_loss: 1.6671 - val_accuracy: 0.7030\n",
      "Epoch 18/30\n",
      "78/78 [==============================] - 2012s 26s/step - loss: 0.0400 - accuracy: 0.9839 - val_loss: 0.1058 - val_accuracy: 0.9850\n",
      "Epoch 19/30\n",
      "78/78 [==============================] - 2012s 26s/step - loss: 0.0484 - accuracy: 0.9863 - val_loss: 1.6940 - val_accuracy: 0.7951\n",
      "Epoch 20/30\n",
      "78/78 [==============================] - 2086s 27s/step - loss: 0.0341 - accuracy: 0.9879 - val_loss: 0.0964 - val_accuracy: 0.9850\n",
      "Epoch 21/30\n",
      "78/78 [==============================] - 2046s 26s/step - loss: 0.0488 - accuracy: 0.9815 - val_loss: 1.1230 - val_accuracy: 0.4549\n",
      "Epoch 22/30\n",
      "78/78 [==============================] - 2068s 27s/step - loss: 0.0433 - accuracy: 0.9855 - val_loss: 0.4806 - val_accuracy: 0.8440\n",
      "Epoch 23/30\n",
      "78/78 [==============================] - 2063s 26s/step - loss: 0.0283 - accuracy: 0.9907 - val_loss: 1.4552 - val_accuracy: 0.7726\n",
      "Epoch 24/30\n",
      "78/78 [==============================] - 2065s 26s/step - loss: 0.0353 - accuracy: 0.9899 - val_loss: 0.4083 - val_accuracy: 0.8553\n",
      "Epoch 25/30\n",
      "78/78 [==============================] - 2094s 27s/step - loss: 0.0468 - accuracy: 0.9843 - val_loss: 0.9557 - val_accuracy: 0.8346\n",
      "Epoch 26/30\n",
      "78/78 [==============================] - 2134s 27s/step - loss: 0.0358 - accuracy: 0.9867 - val_loss: 4.5535 - val_accuracy: 0.3609\n",
      "Epoch 27/30\n",
      "78/78 [==============================] - 2138s 27s/step - loss: 0.0687 - accuracy: 0.9775 - val_loss: 1.6084 - val_accuracy: 0.7594\n",
      "Epoch 28/30\n",
      "78/78 [==============================] - 2141s 27s/step - loss: 0.0521 - accuracy: 0.9799 - val_loss: 0.3357 - val_accuracy: 0.8910\n",
      "Epoch 29/30\n",
      "78/78 [==============================] - 2142s 27s/step - loss: 0.0450 - accuracy: 0.9831 - val_loss: 0.8213 - val_accuracy: 0.8647\n",
      "Epoch 30/30\n",
      "78/78 [==============================] - 2131s 27s/step - loss: 0.0401 - accuracy: 0.9871 - val_loss: 0.0445 - val_accuracy: 0.9868\n"
     ]
    }
   ],
   "source": [
    "resnet_classifier = tune_model(res_net)"
   ]
  },
  {
   "cell_type": "code",
   "execution_count": 8,
   "id": "d4bca551",
   "metadata": {},
   "outputs": [],
   "source": [
    "resnet_classifier.save(\"OUTPUT/ResnetModel.h5\")"
   ]
  },
  {
   "cell_type": "code",
   "execution_count": 9,
   "id": "f9cbe66e",
   "metadata": {},
   "outputs": [
    {
     "name": "stderr",
     "output_type": "stream",
     "text": [
      "2023-09-03 06:40:13.955045: I tensorflow/core/common_runtime/executor.cc:1197] [/device:CPU:0] (DEBUG INFO) Executor start aborting (this does not indicate an error and you can ignore this message): INVALID_ARGUMENT: You must feed a value for placeholder tensor 'Placeholder/_0' with dtype int32\n",
      "\t [[{{node Placeholder/_0}}]]\n"
     ]
    },
    {
     "name": "stdout",
     "output_type": "stream",
     "text": [
      "17/17 [==============================] - 94s 6s/step - loss: 0.0535 - accuracy: 0.9907\n"
     ]
    }
   ],
   "source": [
    "_, accuracy = resnet_classifier.evaluate(test_data, steps = validation_steps)"
   ]
  },
  {
   "cell_type": "code",
   "execution_count": 10,
   "id": "ab21c387",
   "metadata": {},
   "outputs": [
    {
     "name": "stdout",
     "output_type": "stream",
     "text": [
      "ResnetModel accuracy : 0.9906542301177979\n"
     ]
    }
   ],
   "source": [
    "print('ResnetModel accuracy :',accuracy)"
   ]
  }
 ],
 "metadata": {
  "kernelspec": {
   "display_name": "Python 3 (ipykernel)",
   "language": "python",
   "name": "python3"
  },
  "language_info": {
   "codemirror_mode": {
    "name": "ipython",
    "version": 3
   },
   "file_extension": ".py",
   "mimetype": "text/x-python",
   "name": "python",
   "nbconvert_exporter": "python",
   "pygments_lexer": "ipython3",
   "version": "3.10.9"
  }
 },
 "nbformat": 4,
 "nbformat_minor": 5
}
