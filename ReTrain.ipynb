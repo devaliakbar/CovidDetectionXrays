{
 "cells": [
  {
   "cell_type": "markdown",
   "id": "4ec4fda2",
   "metadata": {},
   "source": [
    "# InitialSetup"
   ]
  },
  {
   "cell_type": "code",
   "execution_count": null,
   "id": "8501625f",
   "metadata": {},
   "outputs": [],
   "source": [
    "import os\n",
    "\n",
    "if not os.path.exists('data_set/'):\n",
    "    raise Exception(\"Generated dataset not found, pls run 'SetupDataset' first.\")\n",
    "    \n",
    "if not os.path.exists('OUTPUT/'):\n",
    "    os.makedirs('OUTPUT/')"
   ]
  },
  {
   "cell_type": "code",
   "execution_count": null,
   "id": "1e3d70ea",
   "metadata": {},
   "outputs": [],
   "source": [
    "import tensorflow as tf\n",
    "from tensorflow.keras.models import Sequential\n",
    "from tensorflow.keras.layers import GlobalAveragePooling2D, Dense\n",
    "from tensorflow.keras.optimizers import Adam"
   ]
  },
  {
   "cell_type": "markdown",
   "id": "07270c5e",
   "metadata": {},
   "source": [
    "# Loading dataset"
   ]
  },
  {
   "cell_type": "code",
   "execution_count": null,
   "id": "1545771b",
   "metadata": {},
   "outputs": [],
   "source": [
    "from keras.preprocessing.image import ImageDataGenerator\n",
    "\n",
    "train_gen = ImageDataGenerator(rescale=1./255, brightness_range=[0.2,1.0], shear_range=0.2,\n",
    "                                    fill_mode = 'nearest', width_shift_range=0.2, rotation_range=40,\n",
    "                                   height_shift_range=0.2, horizontal_flip=True, zoom_range=0.2)\n",
    "training_data = train_gen.flow_from_directory('data_set/train', target_size=(256,256), \n",
    "                                                 batch_size=32, class_mode='binary')\n",
    "\n",
    "val_gen = ImageDataGenerator(rescale=1./255)\n",
    "val_data = val_gen.flow_from_directory('data_set/val', target_size=(256, 256), \n",
    "                                            batch_size=32, class_mode='binary')\n",
    "\n",
    "test_gen = ImageDataGenerator(rescale=1./255)\n",
    "test_data = test_gen.flow_from_directory('data_set/test', target_size=(256, 256), \n",
    "                                            batch_size=32, class_mode='binary')"
   ]
  },
  {
   "cell_type": "markdown",
   "id": "e9eef3f6",
   "metadata": {},
   "source": [
    "# Training"
   ]
  },
  {
   "cell_type": "code",
   "execution_count": null,
   "id": "71e48b41",
   "metadata": {},
   "outputs": [],
   "source": [
    "IMAGE_SHAPE = (256,256,3)\n",
    "validation_steps = len(val_data)\n",
    "steps_per_epoch = len(training_data)"
   ]
  },
  {
   "cell_type": "code",
   "execution_count": null,
   "id": "6a233b09",
   "metadata": {},
   "outputs": [],
   "source": [
    "def tune_model(pretrain_model):\n",
    "    classifier = Sequential([\n",
    "        pretrain_model,\n",
    "    \n",
    "        GlobalAveragePooling2D(),\n",
    "    \n",
    "        Dense(128, activation='relu'),\n",
    "        Dense(64, activation='relu'),\n",
    "        Dense(1, activation='sigmoid')\n",
    "    ])\n",
    "    \n",
    "    classifier.compile(optimizer='adam', loss='binary_crossentropy', metrics = ['accuracy'])\n",
    "    \n",
    "    classifier.fit(training_data, epochs=45, steps_per_epoch=steps_per_epoch, workers=1,\n",
    "                    validation_data=val_data, validation_steps=validation_steps)\n",
    "    \n",
    "    return classifier"
   ]
  },
  {
   "cell_type": "markdown",
   "id": "e3a787a4",
   "metadata": {},
   "source": [
    "## EfficientNet"
   ]
  },
  {
   "cell_type": "code",
   "execution_count": null,
   "id": "7c23ee25",
   "metadata": {},
   "outputs": [],
   "source": [
    "from tensorflow.keras.applications import EfficientNetB2\n",
    "efficient_net = EfficientNetB2(input_shape=IMAGE_SHAPE, include_top=False, weights='imagenet')"
   ]
  },
  {
   "cell_type": "code",
   "execution_count": null,
   "id": "939bc77c",
   "metadata": {},
   "outputs": [],
   "source": [
    "efficientnet_classifier = tune_model(efficient_net)"
   ]
  },
  {
   "cell_type": "code",
   "execution_count": null,
   "id": "f3d98187",
   "metadata": {},
   "outputs": [],
   "source": [
    "efficientnet_classifier.save(\"OUTPUT/EfficientNetModel.h5\")"
   ]
  },
  {
   "cell_type": "code",
   "execution_count": null,
   "id": "dd4a2ad0",
   "metadata": {},
   "outputs": [],
   "source": [
    "_, accuracy = efficientnet_classifier.evaluate(test_data, steps = validation_steps)"
   ]
  },
  {
   "cell_type": "code",
   "execution_count": null,
   "id": "86aba7f5",
   "metadata": {},
   "outputs": [],
   "source": [
    "print('EfficientNetModel accuracy :',accuracy)"
   ]
  },
  {
   "cell_type": "markdown",
   "id": "14a5a71e",
   "metadata": {},
   "source": [
    "## InceptionResNet"
   ]
  },
  {
   "cell_type": "code",
   "execution_count": null,
   "id": "d9d56f99",
   "metadata": {},
   "outputs": [],
   "source": [
    "from tensorflow.keras.applications import InceptionResNetV2\n",
    "\n",
    "inception_res_net = InceptionResNetV2(input_shape=IMAGE_SHAPE, include_top=False, weights='imagenet')"
   ]
  },
  {
   "cell_type": "code",
   "execution_count": null,
   "id": "0e937d63",
   "metadata": {},
   "outputs": [],
   "source": [
    "inceptionresnet_classifier = tune_model(inception_res_net)"
   ]
  },
  {
   "cell_type": "code",
   "execution_count": null,
   "id": "cfdfc5bc",
   "metadata": {},
   "outputs": [],
   "source": [
    "inceptionresnet_classifier.save(\"OUTPUT/InceptionResNetModel.h5\")"
   ]
  },
  {
   "cell_type": "code",
   "execution_count": null,
   "id": "b1158cf6",
   "metadata": {},
   "outputs": [],
   "source": [
    "print('InceptionResNetModel accuracy :',accuracy)"
   ]
  },
  {
   "cell_type": "markdown",
   "id": "215de317",
   "metadata": {},
   "source": [
    "## ResNet"
   ]
  },
  {
   "cell_type": "code",
   "execution_count": null,
   "id": "074b15cc",
   "metadata": {},
   "outputs": [],
   "source": [
    "from tensorflow.keras.applications import ResNet152V2\n",
    "\n",
    "res_net = ResNet152V2(input_shape=IMAGE_SHAPE, include_top=False, weights='imagenet')"
   ]
  },
  {
   "cell_type": "code",
   "execution_count": null,
   "id": "a887d463",
   "metadata": {},
   "outputs": [],
   "source": [
    "resnet_classifier = tune_model(res_net)"
   ]
  },
  {
   "cell_type": "code",
   "execution_count": null,
   "id": "d4bca551",
   "metadata": {},
   "outputs": [],
   "source": [
    "resnet_classifier.save(\"OUTPUT/ResnetModel.h5\")"
   ]
  },
  {
   "cell_type": "code",
   "execution_count": null,
   "id": "f9cbe66e",
   "metadata": {},
   "outputs": [],
   "source": [
    "_, accuracy = resnet_classifier.evaluate(test_data, steps = validation_steps)"
   ]
  },
  {
   "cell_type": "code",
   "execution_count": null,
   "id": "ab21c387",
   "metadata": {},
   "outputs": [],
   "source": [
    "print('ResnetModel accuracy :',accuracy)"
   ]
  }
 ],
 "metadata": {
  "kernelspec": {
   "display_name": "Python 3 (ipykernel)",
   "language": "python",
   "name": "python3"
  },
  "language_info": {
   "codemirror_mode": {
    "name": "ipython",
    "version": 3
   },
   "file_extension": ".py",
   "mimetype": "text/x-python",
   "name": "python",
   "nbconvert_exporter": "python",
   "pygments_lexer": "ipython3",
   "version": "3.10.9"
  }
 },
 "nbformat": 4,
 "nbformat_minor": 5
}
