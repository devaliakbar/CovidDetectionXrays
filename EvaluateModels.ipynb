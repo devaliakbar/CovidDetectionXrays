{
 "cells": [
  {
   "cell_type": "code",
   "execution_count": null,
   "id": "ba759f15",
   "metadata": {},
   "outputs": [],
   "source": [
    "import os\n",
    "\n",
    "if not os.path.exists('Output/'):\n",
    "    raise Exception(\"Models not found, pls run 'Train' first.\")"
   ]
  },
  {
   "cell_type": "code",
   "execution_count": null,
   "id": "8d09d35c",
   "metadata": {},
   "outputs": [],
   "source": [
    "from keras.preprocessing.image import ImageDataGenerator\n",
    "\n",
    "test_gen = ImageDataGenerator(rescale=1./255)\n",
    "\n",
    "test_data = test_gen.flow_from_directory('data_set/test', target_size=(256, 256), \n",
    "                                            batch_size=32, class_mode='binary')\n",
    "\n",
    "steps = len(test_data)"
   ]
  },
  {
   "cell_type": "code",
   "execution_count": null,
   "id": "1d3669f2",
   "metadata": {},
   "outputs": [],
   "source": [
    "from tensorflow.keras.models import load_model"
   ]
  },
  {
   "cell_type": "code",
   "execution_count": null,
   "id": "88928724",
   "metadata": {},
   "outputs": [],
   "source": [
    "scratch_model = load_model('Output/ScratchModel.h5')\n",
    "_, accuracy = scratch_model.evaluate(test_data, steps = steps)\n",
    "print('Scratch model accuracy :',accuracy)\n",
    "scratch_model.summary()"
   ]
  },
  {
   "cell_type": "code",
   "execution_count": null,
   "id": "50d80170",
   "metadata": {},
   "outputs": [],
   "source": [
    "resnet_model = load_model('Output/ResnetModel.h5')\n",
    "_, accuracy = resnet_model.evaluate(test_data, steps = steps)\n",
    "print('ResnetModel accuracy :',accuracy)\n",
    "resnet_model.summary()"
   ]
  },
  {
   "cell_type": "code",
   "execution_count": null,
   "id": "ab945e83",
   "metadata": {},
   "outputs": [],
   "source": [
    "xception_model = load_model('Output/XceptionModel.h5')\n",
    "_, accuracy = xception_model.evaluate(test_data, steps = steps)\n",
    "print('Xception model accuracy :',accuracy)\n",
    "xception_model.summary()"
   ]
  }
 ],
 "metadata": {
  "kernelspec": {
   "display_name": "Python 3 (ipykernel)",
   "language": "python",
   "name": "python3"
  },
  "language_info": {
   "codemirror_mode": {
    "name": "ipython",
    "version": 3
   },
   "file_extension": ".py",
   "mimetype": "text/x-python",
   "name": "python",
   "nbconvert_exporter": "python",
   "pygments_lexer": "ipython3",
   "version": "3.10.9"
  }
 },
 "nbformat": 4,
 "nbformat_minor": 5
}
