{
 "cells": [
  {
   "cell_type": "code",
   "execution_count": 1,
   "id": "ba759f15",
   "metadata": {},
   "outputs": [],
   "source": [
    "import os\n",
    "\n",
    "if not os.path.exists('Output/'):\n",
    "    raise Exception(\"Models not found, pls run 'Train' first.\")"
   ]
  },
  {
   "cell_type": "code",
   "execution_count": 2,
   "id": "8d09d35c",
   "metadata": {},
   "outputs": [
    {
     "name": "stderr",
     "output_type": "stream",
     "text": [
      "2023-10-03 13:42:49.386913: I tensorflow/core/platform/cpu_feature_guard.cc:182] This TensorFlow binary is optimized to use available CPU instructions in performance-critical operations.\n",
      "To enable the following instructions: AVX2 FMA, in other operations, rebuild TensorFlow with the appropriate compiler flags.\n"
     ]
    },
    {
     "name": "stdout",
     "output_type": "stream",
     "text": [
      "Found 536 images belonging to 2 classes.\n"
     ]
    }
   ],
   "source": [
    "from keras.preprocessing.image import ImageDataGenerator\n",
    "\n",
    "test_gen = ImageDataGenerator(rescale=1./255)\n",
    "\n",
    "test_gen_output = test_gen.flow_from_directory('data_set/test', target_size=(256, 256), \n",
    "                                            batch_size=536, class_mode='binary')"
   ]
  },
  {
   "cell_type": "code",
   "execution_count": 3,
   "id": "bd32db18",
   "metadata": {},
   "outputs": [],
   "source": [
    "x_test = []\n",
    "y_test = []\n",
    "for x, y in test_gen_output:\n",
    "    x_test = x\n",
    "    y_test = y\n",
    "    break"
   ]
  },
  {
   "cell_type": "markdown",
   "id": "3b11b948",
   "metadata": {},
   "source": [
    "# ModelEvaluateFunction"
   ]
  },
  {
   "cell_type": "code",
   "execution_count": 4,
   "id": "3a2ef814",
   "metadata": {},
   "outputs": [],
   "source": [
    "from sklearn.metrics import confusion_matrix, accuracy_score\n",
    "\n",
    "def evaluate(label, model):\n",
    "    print('\\n*****************',label, '*****************\\n')\n",
    "    model.summary()\n",
    "    \n",
    "    result = model.predict(x_test)\n",
    "    \n",
    "    y_pred = []\n",
    "    for i in result.flatten():\n",
    "        if i >= 0.5:\n",
    "            y_pred.append(1) \n",
    "        else:\n",
    "            y_pred.append(0) \n",
    "    \n",
    "    tn, fp, fn, tp = confusion_matrix(y_test, y_pred).ravel()\n",
    "    print('TP :', tp, ', TN :', tn,', FP :', fp,', FN :', fn)\n",
    "\n",
    "    print('Accuracy :',accuracy_score(y_test, y_pred))"
   ]
  },
  {
   "cell_type": "code",
   "execution_count": 5,
   "id": "1d3669f2",
   "metadata": {},
   "outputs": [],
   "source": [
    "from tensorflow.keras.models import load_model"
   ]
  },
  {
   "cell_type": "code",
   "execution_count": 6,
   "id": "88928724",
   "metadata": {},
   "outputs": [
    {
     "name": "stdout",
     "output_type": "stream",
     "text": [
      "\n",
      "***************** Scratch model *****************\n",
      "\n",
      "Model: \"sequential\"\n",
      "_________________________________________________________________\n",
      " Layer (type)                Output Shape              Param #   \n",
      "=================================================================\n",
      " conv2d (Conv2D)             (None, 85, 85, 64)        1792      \n",
      "                                                                 \n",
      " max_pooling2d (MaxPooling2D  (None, 42, 42, 64)       0         \n",
      " )                                                               \n",
      "                                                                 \n",
      " conv2d_1 (Conv2D)           (None, 14, 14, 32)        18464     \n",
      "                                                                 \n",
      " max_pooling2d_1 (MaxPooling  (None, 7, 7, 32)         0         \n",
      " 2D)                                                             \n",
      "                                                                 \n",
      " flatten (Flatten)           (None, 1568)              0         \n",
      "                                                                 \n",
      " dense (Dense)               (None, 256)               401664    \n",
      "                                                                 \n",
      " dense_1 (Dense)             (None, 1)                 257       \n",
      "                                                                 \n",
      "=================================================================\n",
      "Total params: 422,177\n",
      "Trainable params: 422,177\n",
      "Non-trainable params: 0\n",
      "_________________________________________________________________\n",
      "17/17 [==============================] - 1s 42ms/step\n",
      "TP : 371 , TN : 151 , FP : 14 , FN : 0\n",
      "Accuracy : 0.9738805970149254\n"
     ]
    }
   ],
   "source": [
    "evaluate('Scratch model', load_model('Output/ScratchModel.h5'))"
   ]
  },
  {
   "cell_type": "code",
   "execution_count": 7,
   "id": "6ab357c1",
   "metadata": {},
   "outputs": [
    {
     "name": "stdout",
     "output_type": "stream",
     "text": [
      "\n",
      "***************** Resnet model *****************\n",
      "\n",
      "Model: \"sequential\"\n",
      "_________________________________________________________________\n",
      " Layer (type)                Output Shape              Param #   \n",
      "=================================================================\n",
      " resnet152v2 (Functional)    (None, 8, 8, 2048)        58331648  \n",
      "                                                                 \n",
      " global_average_pooling2d (G  (None, 2048)             0         \n",
      " lobalAveragePooling2D)                                          \n",
      "                                                                 \n",
      " dense (Dense)               (None, 128)               262272    \n",
      "                                                                 \n",
      " dense_1 (Dense)             (None, 64)                8256      \n",
      "                                                                 \n",
      " dense_2 (Dense)             (None, 1)                 65        \n",
      "                                                                 \n",
      "=================================================================\n",
      "Total params: 58,602,241\n",
      "Trainable params: 58,458,497\n",
      "Non-trainable params: 143,744\n",
      "_________________________________________________________________\n",
      "17/17 [==============================] - 113s 7s/step\n",
      "TP : 363 , TN : 164 , FP : 1 , FN : 8\n",
      "Accuracy : 0.9832089552238806\n"
     ]
    }
   ],
   "source": [
    "evaluate('Resnet model', load_model('Output/ResnetModel.h5'))"
   ]
  },
  {
   "cell_type": "code",
   "execution_count": 8,
   "id": "d1d61dc6",
   "metadata": {},
   "outputs": [
    {
     "name": "stdout",
     "output_type": "stream",
     "text": [
      "\n",
      "***************** Xception model *****************\n",
      "\n",
      "Model: \"sequential\"\n",
      "_________________________________________________________________\n",
      " Layer (type)                Output Shape              Param #   \n",
      "=================================================================\n",
      " xception (Functional)       (None, 8, 8, 2048)        20861480  \n",
      "                                                                 \n",
      " global_average_pooling2d (G  (None, 2048)             0         \n",
      " lobalAveragePooling2D)                                          \n",
      "                                                                 \n",
      " dense (Dense)               (None, 128)               262272    \n",
      "                                                                 \n",
      " dense_1 (Dense)             (None, 64)                8256      \n",
      "                                                                 \n",
      " dense_2 (Dense)             (None, 1)                 65        \n",
      "                                                                 \n",
      "=================================================================\n",
      "Total params: 21,132,073\n",
      "Trainable params: 21,077,545\n",
      "Non-trainable params: 54,528\n",
      "_________________________________________________________________\n",
      "17/17 [==============================] - 53s 3s/step\n",
      "TP : 371 , TN : 157 , FP : 8 , FN : 0\n",
      "Accuracy : 0.9850746268656716\n"
     ]
    }
   ],
   "source": [
    "evaluate('Xception model', load_model('Output/XceptionModel.h5'))"
   ]
  }
 ],
 "metadata": {
  "kernelspec": {
   "display_name": "Python 3 (ipykernel)",
   "language": "python",
   "name": "python3"
  },
  "language_info": {
   "codemirror_mode": {
    "name": "ipython",
    "version": 3
   },
   "file_extension": ".py",
   "mimetype": "text/x-python",
   "name": "python",
   "nbconvert_exporter": "python",
   "pygments_lexer": "ipython3",
   "version": "3.10.9"
  }
 },
 "nbformat": 4,
 "nbformat_minor": 5
}
