{
 "cells": [
  {
   "cell_type": "code",
   "execution_count": null,
   "id": "ba759f15",
   "metadata": {},
   "outputs": [],
   "source": [
    "import os\n",
    "\n",
    "if not os.path.exists('Output/'):\n",
    "    raise Exception(\"Models not found, pls run 'Train' first.\")"
   ]
  },
  {
   "cell_type": "code",
   "execution_count": null,
   "id": "8d09d35c",
   "metadata": {},
   "outputs": [],
   "source": [
    "from keras.preprocessing.image import ImageDataGenerator\n",
    "\n",
    "test_gen = ImageDataGenerator(rescale=1./255)\n",
    "\n",
    "test_gen_output = test_gen.flow_from_directory('data_set/test', target_size=(256, 256), \n",
    "                                            batch_size=536, class_mode='binary')"
   ]
  },
  {
   "cell_type": "code",
   "execution_count": null,
   "id": "bd32db18",
   "metadata": {},
   "outputs": [],
   "source": [
    "x_test = []\n",
    "y_test = []\n",
    "for x, y in test_gen_output:\n",
    "    x_test = x\n",
    "    y_test = y\n",
    "    break"
   ]
  },
  {
   "cell_type": "markdown",
   "id": "d1fd916c",
   "metadata": {},
   "source": [
    "# EvaluationVisualization"
   ]
  },
  {
   "cell_type": "code",
   "execution_count": null,
   "id": "016a8355",
   "metadata": {},
   "outputs": [],
   "source": [
    "import matplotlib.pyplot as plt"
   ]
  },
  {
   "cell_type": "code",
   "execution_count": null,
   "id": "d2d0abb8",
   "metadata": {},
   "outputs": [],
   "source": [
    "from sklearn.metrics import ConfusionMatrixDisplay\n",
    "\n",
    "def show_confusion_matrix(conf_matrix):\n",
    "    ConfusionMatrixDisplay(conf_matrix, display_labels=['COVID','NORMAL']).plot()"
   ]
  },
  {
   "cell_type": "code",
   "execution_count": null,
   "id": "e06ccd21",
   "metadata": {},
   "outputs": [],
   "source": [
    "def show_model_chart(label, accuracy, precision, recall, f1):\n",
    "    fig = plt.figure()\n",
    "    ax = fig.add_axes([0,0,1,1])\n",
    "    ax.set_title(label + \" Summary\")\n",
    "    bar_values = map(lambda x: x * 100, [accuracy, precision, recall, f1])\n",
    "    ax.bar(['Accuracy', 'Precision', 'Recall', 'F1 Score'], list(bar_values), 0.35)\n",
    "    ax.set_xlabel('Model evaluation metrics', fontweight ='bold', fontsize = 15)\n",
    "    ax.set_ylabel('Percentage', fontweight ='bold', fontsize = 15) \n",
    "    plt.show()"
   ]
  },
  {
   "cell_type": "markdown",
   "id": "3b11b948",
   "metadata": {},
   "source": [
    "# ModelEvaluateFunction"
   ]
  },
  {
   "cell_type": "code",
   "execution_count": null,
   "id": "3a2ef814",
   "metadata": {},
   "outputs": [],
   "source": [
    "from sklearn.metrics import confusion_matrix, accuracy_score, precision_score, recall_score, f1_score\n",
    "\n",
    "def evaluate(label, model):\n",
    "    print('\\n*****************',label, '*****************\\n')\n",
    "    model.summary()\n",
    "    \n",
    "    result = model.predict(x_test)\n",
    "    \n",
    "    y_pred = []\n",
    "    for i in result.flatten():\n",
    "        if i >= 0.5:\n",
    "            y_pred.append(1) \n",
    "        else:\n",
    "            y_pred.append(0) \n",
    "    \n",
    "    conf_matrix = confusion_matrix(y_test, y_pred)\n",
    "    tn, fp, fn, tp = conf_matrix.ravel()\n",
    "    print('TP :', tp, ', TN :', tn,', FP :', fp,', FN :', fn)\n",
    "    show_confusion_matrix(conf_matrix)\n",
    "    \n",
    "    accuracy = accuracy_score(y_test, y_pred)\n",
    "    print('Accuracy :', accuracy)\n",
    "    \n",
    "    precision = precision_score(y_test, y_pred, average = \"macro\")\n",
    "    print('Precision :', precision)\n",
    "    \n",
    "    recall = recall_score(y_test, y_pred, average = \"macro\")\n",
    "    print('Recall :', recall)\n",
    "    \n",
    "    f1 = f1_score(y_test, y_pred, average = \"macro\")\n",
    "    print('F1 score :', f1)\n",
    "    \n",
    "    show_model_chart(label, accuracy, precision, recall, f1)"
   ]
  },
  {
   "cell_type": "code",
   "execution_count": null,
   "id": "1d3669f2",
   "metadata": {},
   "outputs": [],
   "source": [
    "from tensorflow.keras.models import load_model"
   ]
  },
  {
   "cell_type": "code",
   "execution_count": null,
   "id": "88928724",
   "metadata": {},
   "outputs": [],
   "source": [
    "evaluate('Scratch model', load_model('Output/ScratchModel.h5'))"
   ]
  },
  {
   "cell_type": "code",
   "execution_count": null,
   "id": "6ab357c1",
   "metadata": {},
   "outputs": [],
   "source": [
    "evaluate('Resnet model', load_model('Output/ResnetModel.h5'))"
   ]
  },
  {
   "cell_type": "code",
   "execution_count": null,
   "id": "d1d61dc6",
   "metadata": {},
   "outputs": [],
   "source": [
    "evaluate('Xception model', load_model('Output/XceptionModel.h5'))"
   ]
  }
 ],
 "metadata": {
  "kernelspec": {
   "display_name": "Python 3 (ipykernel)",
   "language": "python",
   "name": "python3"
  },
  "language_info": {
   "codemirror_mode": {
    "name": "ipython",
    "version": 3
   },
   "file_extension": ".py",
   "mimetype": "text/x-python",
   "name": "python",
   "nbconvert_exporter": "python",
   "pygments_lexer": "ipython3",
   "version": "3.10.9"
  }
 },
 "nbformat": 4,
 "nbformat_minor": 5
}
