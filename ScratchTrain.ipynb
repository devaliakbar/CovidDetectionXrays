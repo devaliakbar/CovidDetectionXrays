{
 "cells": [
  {
   "cell_type": "markdown",
   "id": "4ec4fda2",
   "metadata": {},
   "source": [
    "# InitialSetup"
   ]
  },
  {
   "cell_type": "code",
   "execution_count": 1,
   "id": "8501625f",
   "metadata": {},
   "outputs": [],
   "source": [
    "import os\n",
    "import shutil\n",
    "\n",
    "if not os.path.exists('data_set/'):\n",
    "    raise Exception(\"Generated dataset not found, pls run 'SetupDataset' first.\")\n",
    "    \n",
    "if os.path.exists('OUTPUT/'):\n",
    "    shutil.rmtree('OUTPUT/')\n",
    "    \n",
    "os.makedirs('OUTPUT/')"
   ]
  },
  {
   "cell_type": "code",
   "execution_count": 2,
   "id": "1e3d70ea",
   "metadata": {},
   "outputs": [
    {
     "name": "stderr",
     "output_type": "stream",
     "text": [
      "2023-08-31 12:33:36.811245: I tensorflow/core/platform/cpu_feature_guard.cc:182] This TensorFlow binary is optimized to use available CPU instructions in performance-critical operations.\n",
      "To enable the following instructions: AVX2 FMA, in other operations, rebuild TensorFlow with the appropriate compiler flags.\n"
     ]
    }
   ],
   "source": [
    "import tensorflow as tf\n",
    "from tensorflow.keras.models import Sequential\n",
    "from tensorflow.keras.layers import Dropout, AveragePooling2D, MaxPooling2D, Convolution2D, Flatten, Dense\n",
    "from tensorflow.keras.optimizers import Adam"
   ]
  },
  {
   "cell_type": "markdown",
   "id": "07270c5e",
   "metadata": {},
   "source": [
    "# Loading dataset"
   ]
  },
  {
   "cell_type": "code",
   "execution_count": 3,
   "id": "1545771b",
   "metadata": {},
   "outputs": [
    {
     "name": "stdout",
     "output_type": "stream",
     "text": [
      "Found 2485 images belonging to 2 classes.\n",
      "Found 532 images belonging to 2 classes.\n",
      "Found 535 images belonging to 2 classes.\n"
     ]
    }
   ],
   "source": [
    "from keras.preprocessing.image import ImageDataGenerator\n",
    "\n",
    "train_gen = ImageDataGenerator(rescale=1./255, brightness_range=[0.2,1.0], shear_range=0.2,\n",
    "                                    fill_mode = 'nearest', width_shift_range=0.2, rotation_range=40,\n",
    "                                   height_shift_range=0.2, horizontal_flip=True, zoom_range=0.2)\n",
    "training_data = train_gen.flow_from_directory('data_set/train', target_size=(256,256), \n",
    "                                                 batch_size=32, class_mode='binary')\n",
    "\n",
    "val_gen = ImageDataGenerator(rescale=1./255)\n",
    "val_data = val_gen.flow_from_directory('data_set/val', target_size=(256, 256), \n",
    "                                            batch_size=32, class_mode='binary')\n",
    "\n",
    "test_gen = ImageDataGenerator(rescale=1./255)\n",
    "test_data = test_gen.flow_from_directory('data_set/test', target_size=(256, 256), \n",
    "                                            batch_size=32, class_mode='binary')"
   ]
  },
  {
   "cell_type": "markdown",
   "id": "215de317",
   "metadata": {},
   "source": [
    "# Training model from scratch"
   ]
  },
  {
   "cell_type": "code",
   "execution_count": 4,
   "id": "a887d463",
   "metadata": {},
   "outputs": [],
   "source": [
    "classifier = Sequential([\n",
    "    Convolution2D(64,3,3, input_shape=(256,256,3), activation='relu'),\n",
    "    MaxPooling2D(pool_size = (2,2)),\n",
    "    \n",
    "    Convolution2D(32,3,3, activation='relu'),\n",
    "    MaxPooling2D(pool_size = (2,2)),\n",
    "    \n",
    "    Flatten(),\n",
    "    \n",
    "    Dense(256, activation = 'relu'),\n",
    "    Dense(1, activation = 'sigmoid')\n",
    "])"
   ]
  },
  {
   "cell_type": "code",
   "execution_count": 5,
   "id": "2828a903",
   "metadata": {},
   "outputs": [],
   "source": [
    "classifier.compile(optimizer='adam', loss='binary_crossentropy', metrics = ['accuracy'])"
   ]
  },
  {
   "cell_type": "code",
   "execution_count": 6,
   "id": "9ddecc55",
   "metadata": {},
   "outputs": [
    {
     "name": "stdout",
     "output_type": "stream",
     "text": [
      "Epoch 1/45\n"
     ]
    },
    {
     "name": "stderr",
     "output_type": "stream",
     "text": [
      "2023-08-31 12:33:40.264273: I tensorflow/core/common_runtime/executor.cc:1197] [/device:CPU:0] (DEBUG INFO) Executor start aborting (this does not indicate an error and you can ignore this message): INVALID_ARGUMENT: You must feed a value for placeholder tensor 'Placeholder/_0' with dtype int32\n",
      "\t [[{{node Placeholder/_0}}]]\n"
     ]
    },
    {
     "name": "stdout",
     "output_type": "stream",
     "text": [
      "78/78 [==============================] - ETA: 0s - loss: 0.4893 - accuracy: 0.7577"
     ]
    },
    {
     "name": "stderr",
     "output_type": "stream",
     "text": [
      "2023-08-31 12:34:36.962838: I tensorflow/core/common_runtime/executor.cc:1197] [/device:CPU:0] (DEBUG INFO) Executor start aborting (this does not indicate an error and you can ignore this message): INVALID_ARGUMENT: You must feed a value for placeholder tensor 'Placeholder/_0' with dtype int32\n",
      "\t [[{{node Placeholder/_0}}]]\n"
     ]
    },
    {
     "name": "stdout",
     "output_type": "stream",
     "text": [
      "78/78 [==============================] - 60s 757ms/step - loss: 0.4893 - accuracy: 0.7577 - val_loss: 0.2389 - val_accuracy: 0.8797\n",
      "Epoch 2/45\n",
      "78/78 [==============================] - 58s 741ms/step - loss: 0.2494 - accuracy: 0.9014 - val_loss: 0.1034 - val_accuracy: 0.9680\n",
      "Epoch 3/45\n",
      "78/78 [==============================] - 58s 740ms/step - loss: 0.1945 - accuracy: 0.9312 - val_loss: 0.0802 - val_accuracy: 0.9699\n",
      "Epoch 4/45\n",
      "78/78 [==============================] - 58s 743ms/step - loss: 0.1795 - accuracy: 0.9360 - val_loss: 0.0864 - val_accuracy: 0.9737\n",
      "Epoch 5/45\n",
      "78/78 [==============================] - 58s 738ms/step - loss: 0.1740 - accuracy: 0.9404 - val_loss: 0.0777 - val_accuracy: 0.9774\n",
      "Epoch 6/45\n",
      "78/78 [==============================] - 59s 751ms/step - loss: 0.1370 - accuracy: 0.9577 - val_loss: 0.1464 - val_accuracy: 0.9624\n",
      "Epoch 7/45\n",
      "78/78 [==============================] - 59s 755ms/step - loss: 0.1552 - accuracy: 0.9461 - val_loss: 0.0711 - val_accuracy: 0.9718\n",
      "Epoch 8/45\n",
      "78/78 [==============================] - 58s 745ms/step - loss: 0.1416 - accuracy: 0.9533 - val_loss: 0.1244 - val_accuracy: 0.9680\n",
      "Epoch 9/45\n",
      "78/78 [==============================] - 58s 739ms/step - loss: 0.1133 - accuracy: 0.9626 - val_loss: 0.1196 - val_accuracy: 0.9662\n",
      "Epoch 10/45\n",
      "78/78 [==============================] - 58s 743ms/step - loss: 0.1277 - accuracy: 0.9618 - val_loss: 0.0902 - val_accuracy: 0.9737\n",
      "Epoch 11/45\n",
      "78/78 [==============================] - 58s 739ms/step - loss: 0.1255 - accuracy: 0.9565 - val_loss: 0.0672 - val_accuracy: 0.9793\n",
      "Epoch 12/45\n",
      "78/78 [==============================] - 58s 741ms/step - loss: 0.1190 - accuracy: 0.9594 - val_loss: 0.0871 - val_accuracy: 0.9699\n",
      "Epoch 13/45\n",
      "78/78 [==============================] - 58s 739ms/step - loss: 0.1233 - accuracy: 0.9573 - val_loss: 0.0638 - val_accuracy: 0.9793\n",
      "Epoch 14/45\n",
      "78/78 [==============================] - 58s 740ms/step - loss: 0.1186 - accuracy: 0.9658 - val_loss: 0.1789 - val_accuracy: 0.9417\n",
      "Epoch 15/45\n",
      "78/78 [==============================] - 58s 739ms/step - loss: 0.0968 - accuracy: 0.9694 - val_loss: 0.1223 - val_accuracy: 0.9643\n",
      "Epoch 16/45\n",
      "78/78 [==============================] - 58s 742ms/step - loss: 0.1119 - accuracy: 0.9561 - val_loss: 0.1220 - val_accuracy: 0.9624\n",
      "Epoch 17/45\n",
      "78/78 [==============================] - 58s 740ms/step - loss: 0.0976 - accuracy: 0.9646 - val_loss: 0.0824 - val_accuracy: 0.9718\n",
      "Epoch 18/45\n",
      "78/78 [==============================] - 58s 742ms/step - loss: 0.0969 - accuracy: 0.9698 - val_loss: 0.0827 - val_accuracy: 0.9662\n",
      "Epoch 19/45\n",
      "78/78 [==============================] - 58s 742ms/step - loss: 0.0844 - accuracy: 0.9722 - val_loss: 0.0781 - val_accuracy: 0.9718\n",
      "Epoch 20/45\n",
      "78/78 [==============================] - 58s 742ms/step - loss: 0.0884 - accuracy: 0.9678 - val_loss: 0.0598 - val_accuracy: 0.9774\n",
      "Epoch 21/45\n",
      "78/78 [==============================] - 58s 740ms/step - loss: 0.0995 - accuracy: 0.9698 - val_loss: 0.1059 - val_accuracy: 0.9662\n",
      "Epoch 22/45\n",
      "78/78 [==============================] - 58s 740ms/step - loss: 0.0680 - accuracy: 0.9759 - val_loss: 0.1391 - val_accuracy: 0.9643\n",
      "Epoch 23/45\n",
      "78/78 [==============================] - 58s 740ms/step - loss: 0.1028 - accuracy: 0.9577 - val_loss: 0.0657 - val_accuracy: 0.9812\n",
      "Epoch 24/45\n",
      "78/78 [==============================] - 58s 740ms/step - loss: 0.0900 - accuracy: 0.9666 - val_loss: 0.1286 - val_accuracy: 0.9605\n",
      "Epoch 25/45\n",
      "78/78 [==============================] - 58s 740ms/step - loss: 0.0716 - accuracy: 0.9767 - val_loss: 0.0735 - val_accuracy: 0.9774\n",
      "Epoch 26/45\n",
      "78/78 [==============================] - 58s 743ms/step - loss: 0.0743 - accuracy: 0.9787 - val_loss: 0.1377 - val_accuracy: 0.9568\n",
      "Epoch 27/45\n",
      "78/78 [==============================] - 58s 737ms/step - loss: 0.0689 - accuracy: 0.9791 - val_loss: 0.0656 - val_accuracy: 0.9718\n",
      "Epoch 28/45\n",
      "78/78 [==============================] - 58s 739ms/step - loss: 0.0800 - accuracy: 0.9706 - val_loss: 0.1497 - val_accuracy: 0.9568\n",
      "Epoch 29/45\n",
      "78/78 [==============================] - 58s 741ms/step - loss: 0.0847 - accuracy: 0.9710 - val_loss: 0.1018 - val_accuracy: 0.9680\n",
      "Epoch 30/45\n",
      "78/78 [==============================] - 58s 737ms/step - loss: 0.0640 - accuracy: 0.9795 - val_loss: 0.0407 - val_accuracy: 0.9850\n",
      "Epoch 31/45\n",
      "78/78 [==============================] - 58s 743ms/step - loss: 0.0991 - accuracy: 0.9674 - val_loss: 0.0722 - val_accuracy: 0.9699\n",
      "Epoch 32/45\n",
      "78/78 [==============================] - 58s 739ms/step - loss: 0.0589 - accuracy: 0.9807 - val_loss: 0.0677 - val_accuracy: 0.9756\n",
      "Epoch 33/45\n",
      "78/78 [==============================] - 58s 741ms/step - loss: 0.0584 - accuracy: 0.9811 - val_loss: 0.0771 - val_accuracy: 0.9718\n",
      "Epoch 34/45\n",
      "78/78 [==============================] - 58s 741ms/step - loss: 0.0903 - accuracy: 0.9694 - val_loss: 0.1652 - val_accuracy: 0.9549\n",
      "Epoch 35/45\n",
      "78/78 [==============================] - 58s 739ms/step - loss: 0.0745 - accuracy: 0.9726 - val_loss: 0.0802 - val_accuracy: 0.9680\n",
      "Epoch 36/45\n",
      "78/78 [==============================] - 58s 741ms/step - loss: 0.0892 - accuracy: 0.9702 - val_loss: 0.0747 - val_accuracy: 0.9756\n",
      "Epoch 37/45\n",
      "78/78 [==============================] - 58s 740ms/step - loss: 0.0713 - accuracy: 0.9759 - val_loss: 0.0976 - val_accuracy: 0.9680\n",
      "Epoch 38/45\n",
      "78/78 [==============================] - 58s 738ms/step - loss: 0.0609 - accuracy: 0.9787 - val_loss: 0.1748 - val_accuracy: 0.9492\n",
      "Epoch 39/45\n",
      "78/78 [==============================] - 58s 743ms/step - loss: 0.0664 - accuracy: 0.9783 - val_loss: 0.0973 - val_accuracy: 0.9662\n",
      "Epoch 40/45\n",
      "78/78 [==============================] - 58s 738ms/step - loss: 0.0665 - accuracy: 0.9775 - val_loss: 0.0973 - val_accuracy: 0.9756\n",
      "Epoch 41/45\n",
      "78/78 [==============================] - 58s 738ms/step - loss: 0.0655 - accuracy: 0.9783 - val_loss: 0.0979 - val_accuracy: 0.9680\n",
      "Epoch 42/45\n",
      "78/78 [==============================] - 58s 739ms/step - loss: 0.0574 - accuracy: 0.9783 - val_loss: 0.0715 - val_accuracy: 0.9699\n",
      "Epoch 43/45\n",
      "78/78 [==============================] - 58s 744ms/step - loss: 0.0514 - accuracy: 0.9819 - val_loss: 0.0400 - val_accuracy: 0.9868\n",
      "Epoch 44/45\n",
      "78/78 [==============================] - 58s 740ms/step - loss: 0.0468 - accuracy: 0.9823 - val_loss: 0.0435 - val_accuracy: 0.9831\n",
      "Epoch 45/45\n",
      "78/78 [==============================] - 58s 740ms/step - loss: 0.0942 - accuracy: 0.9678 - val_loss: 0.0539 - val_accuracy: 0.9812\n"
     ]
    },
    {
     "data": {
      "text/plain": [
       "<keras.callbacks.History at 0x13c2cbc10>"
      ]
     },
     "execution_count": 6,
     "metadata": {},
     "output_type": "execute_result"
    }
   ],
   "source": [
    "steps_per_epoch = len(training_data)\n",
    "validation_steps = len(val_data)\n",
    "\n",
    "classifier.fit(training_data, epochs=45, steps_per_epoch=steps_per_epoch, workers=1,\n",
    "                    validation_data=val_data, validation_steps=validation_steps)"
   ]
  },
  {
   "cell_type": "code",
   "execution_count": 7,
   "id": "d4bca551",
   "metadata": {},
   "outputs": [],
   "source": [
    "classifier.save(\"OUTPUT/ScratchModel.h5\")"
   ]
  },
  {
   "cell_type": "code",
   "execution_count": 8,
   "id": "f9cbe66e",
   "metadata": {},
   "outputs": [
    {
     "name": "stderr",
     "output_type": "stream",
     "text": [
      "2023-08-31 13:17:05.011605: I tensorflow/core/common_runtime/executor.cc:1197] [/device:CPU:0] (DEBUG INFO) Executor start aborting (this does not indicate an error and you can ignore this message): INVALID_ARGUMENT: You must feed a value for placeholder tensor 'Placeholder/_0' with dtype int32\n",
      "\t [[{{node Placeholder/_0}}]]\n"
     ]
    },
    {
     "name": "stdout",
     "output_type": "stream",
     "text": [
      "17/17 [==============================] - 3s 174ms/step - loss: 0.0524 - accuracy: 0.9794\n"
     ]
    }
   ],
   "source": [
    "_, accuracy = classifier.evaluate(test_data, steps = validation_steps)"
   ]
  },
  {
   "cell_type": "code",
   "execution_count": 10,
   "id": "ab21c387",
   "metadata": {},
   "outputs": [
    {
     "name": "stdout",
     "output_type": "stream",
     "text": [
      "ScratchModel accuracy : 0.9794392585754395\n"
     ]
    }
   ],
   "source": [
    "print('ScratchModel accuracy :',accuracy)"
   ]
  },
  {
   "cell_type": "code",
   "execution_count": null,
   "id": "8fe540f6",
   "metadata": {},
   "outputs": [],
   "source": []
  }
 ],
 "metadata": {
  "kernelspec": {
   "display_name": "Python 3 (ipykernel)",
   "language": "python",
   "name": "python3"
  },
  "language_info": {
   "codemirror_mode": {
    "name": "ipython",
    "version": 3
   },
   "file_extension": ".py",
   "mimetype": "text/x-python",
   "name": "python",
   "nbconvert_exporter": "python",
   "pygments_lexer": "ipython3",
   "version": "3.10.9"
  }
 },
 "nbformat": 4,
 "nbformat_minor": 5
}
