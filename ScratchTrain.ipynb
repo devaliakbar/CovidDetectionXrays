{
 "cells": [
  {
   "cell_type": "markdown",
   "id": "4ec4fda2",
   "metadata": {},
   "source": [
    "# InitialSetup"
   ]
  },
  {
   "cell_type": "code",
   "execution_count": null,
   "id": "8501625f",
   "metadata": {},
   "outputs": [],
   "source": [
    "import os\n",
    "import shutil\n",
    "\n",
    "if not os.path.exists('data_set/'):\n",
    "    raise Exception(\"Generated dataset not found, pls run 'SetupDataset' first.\")\n",
    "    \n",
    "if not os.path.exists('OUTPUT/'):\n",
    "    os.makedirs('OUTPUT/')"
   ]
  },
  {
   "cell_type": "code",
   "execution_count": null,
   "id": "1e3d70ea",
   "metadata": {},
   "outputs": [],
   "source": [
    "import tensorflow as tf\n",
    "from tensorflow.keras.models import Sequential\n",
    "from tensorflow.keras.layers import Dropout, AveragePooling2D, MaxPooling2D, Convolution2D, Flatten, Dense\n",
    "from tensorflow.keras.optimizers import Adam"
   ]
  },
  {
   "cell_type": "markdown",
   "id": "07270c5e",
   "metadata": {},
   "source": [
    "# Loading dataset"
   ]
  },
  {
   "cell_type": "code",
   "execution_count": null,
   "id": "1545771b",
   "metadata": {},
   "outputs": [],
   "source": [
    "from keras.preprocessing.image import ImageDataGenerator\n",
    "\n",
    "train_gen = ImageDataGenerator(rescale=1./255, brightness_range=[0.2,1.0], shear_range=0.2,\n",
    "                                    fill_mode = 'nearest', width_shift_range=0.2, rotation_range=40,\n",
    "                                   height_shift_range=0.2, horizontal_flip=True, zoom_range=0.2)\n",
    "training_data = train_gen.flow_from_directory('data_set/train', target_size=(256,256), \n",
    "                                                 batch_size=32, class_mode='binary')\n",
    "\n",
    "val_gen = ImageDataGenerator(rescale=1./255)\n",
    "val_data = val_gen.flow_from_directory('data_set/val', target_size=(256, 256), \n",
    "                                            batch_size=32, class_mode='binary')\n",
    "\n",
    "test_gen = ImageDataGenerator(rescale=1./255)\n",
    "test_data = test_gen.flow_from_directory('data_set/test', target_size=(256, 256), \n",
    "                                            batch_size=32, class_mode='binary')"
   ]
  },
  {
   "cell_type": "markdown",
   "id": "215de317",
   "metadata": {},
   "source": [
    "# Training model from scratch"
   ]
  },
  {
   "cell_type": "code",
   "execution_count": null,
   "id": "a887d463",
   "metadata": {},
   "outputs": [],
   "source": [
    "classifier = Sequential([\n",
    "    Convolution2D(64,3,3, input_shape=(256,256,3), activation='relu'),\n",
    "    MaxPooling2D(pool_size = (2,2)),\n",
    "    \n",
    "    Convolution2D(32,3,3, activation='relu'),\n",
    "    MaxPooling2D(pool_size = (2,2)),\n",
    "    \n",
    "    Flatten(),\n",
    "    \n",
    "    Dense(256, activation = 'relu'),\n",
    "    Dense(1, activation = 'sigmoid')\n",
    "])"
   ]
  },
  {
   "cell_type": "code",
   "execution_count": null,
   "id": "2828a903",
   "metadata": {},
   "outputs": [],
   "source": [
    "classifier.compile(optimizer='adam', loss='binary_crossentropy', metrics = ['accuracy'])"
   ]
  },
  {
   "cell_type": "code",
   "execution_count": null,
   "id": "9ddecc55",
   "metadata": {},
   "outputs": [],
   "source": [
    "steps_per_epoch = len(training_data)\n",
    "validation_steps = len(val_data)\n",
    "\n",
    "classifier.fit(training_data, epochs=100, steps_per_epoch=steps_per_epoch, workers=1,\n",
    "                    validation_data=val_data, validation_steps=validation_steps)"
   ]
  },
  {
   "cell_type": "code",
   "execution_count": null,
   "id": "d4bca551",
   "metadata": {},
   "outputs": [],
   "source": [
    "classifier.save(\"OUTPUT/ScratchModel.h5\")"
   ]
  },
  {
   "cell_type": "code",
   "execution_count": null,
   "id": "f9cbe66e",
   "metadata": {},
   "outputs": [],
   "source": [
    "_, accuracy = classifier.evaluate(test_data, steps = len(test_data))"
   ]
  },
  {
   "cell_type": "code",
   "execution_count": null,
   "id": "ab21c387",
   "metadata": {},
   "outputs": [],
   "source": [
    "print('ScratchModel accuracy :',accuracy)"
   ]
  }
 ],
 "metadata": {
  "kernelspec": {
   "display_name": "Python 3 (ipykernel)",
   "language": "python",
   "name": "python3"
  },
  "language_info": {
   "codemirror_mode": {
    "name": "ipython",
    "version": 3
   },
   "file_extension": ".py",
   "mimetype": "text/x-python",
   "name": "python",
   "nbconvert_exporter": "python",
   "pygments_lexer": "ipython3",
   "version": "3.10.9"
  }
 },
 "nbformat": 4,
 "nbformat_minor": 5
}
