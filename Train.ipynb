{
 "cells": [
  {
   "cell_type": "markdown",
   "id": "4ec4fda2",
   "metadata": {},
   "source": [
    "# InitialSetup"
   ]
  },
  {
   "cell_type": "code",
   "execution_count": 1,
   "id": "8501625f",
   "metadata": {},
   "outputs": [],
   "source": [
    "import os\n",
    "import shutil\n",
    "\n",
    "if not os.path.exists('gen_data_set/'):\n",
    "    raise Exception(\"Generated dataset not found, pls run 'SetupDataset' first.\")\n",
    "    \n",
    "if os.path.exists('OUTPUT/'):\n",
    "    shutil.rmtree('OUTPUT/')\n",
    "    \n",
    "os.makedirs('OUTPUT/')"
   ]
  },
  {
   "cell_type": "code",
   "execution_count": 2,
   "id": "1e3d70ea",
   "metadata": {},
   "outputs": [
    {
     "name": "stderr",
     "output_type": "stream",
     "text": [
      "2023-08-30 11:10:33.826504: I tensorflow/core/platform/cpu_feature_guard.cc:182] This TensorFlow binary is optimized to use available CPU instructions in performance-critical operations.\n",
      "To enable the following instructions: AVX2 FMA, in other operations, rebuild TensorFlow with the appropriate compiler flags.\n"
     ]
    }
   ],
   "source": [
    "import tensorflow as tf\n",
    "from tensorflow.keras.models import Sequential\n",
    "from tensorflow.keras.layers import Dropout, AveragePooling2D, MaxPooling2D, Convolution2D, Flatten, Dense\n",
    "from tensorflow.keras.optimizers import Adam"
   ]
  },
  {
   "cell_type": "markdown",
   "id": "07270c5e",
   "metadata": {},
   "source": [
    "# Loading dataset"
   ]
  },
  {
   "cell_type": "code",
   "execution_count": 3,
   "id": "1545771b",
   "metadata": {},
   "outputs": [
    {
     "name": "stdout",
     "output_type": "stream",
     "text": [
      "Found 1890 images belonging to 2 classes.\n",
      "Found 1573 images belonging to 2 classes.\n"
     ]
    }
   ],
   "source": [
    "from keras.preprocessing.image import ImageDataGenerator\n",
    "\n",
    "train_gen = ImageDataGenerator(rescale=1./255, brightness_range=[0.2,1.0], shear_range=0.2,\n",
    "                                    fill_mode = 'nearest', width_shift_range=0.2, rotation_range=40,\n",
    "                                   height_shift_range=0.2, horizontal_flip=True, zoom_range=0.2)\n",
    "\n",
    "\n",
    "test_gen = ImageDataGenerator(rescale=1./255)\n",
    "\n",
    "training_data = train_gen.flow_from_directory('gen_data_set/train', target_size=(256,256), \n",
    "                                                 batch_size=32, class_mode='binary')\n",
    "\n",
    "test_data = test_gen.flow_from_directory('gen_data_set/test', target_size=(256, 256), \n",
    "                                            batch_size=32, class_mode='binary')"
   ]
  },
  {
   "cell_type": "markdown",
   "id": "e9eef3f6",
   "metadata": {},
   "source": [
    "# Training"
   ]
  },
  {
   "cell_type": "code",
   "execution_count": 4,
   "id": "71e48b41",
   "metadata": {},
   "outputs": [],
   "source": [
    "validation_steps = len(test_data)"
   ]
  },
  {
   "cell_type": "markdown",
   "id": "215de317",
   "metadata": {},
   "source": [
    "# Training model from scratch"
   ]
  },
  {
   "cell_type": "code",
   "execution_count": 5,
   "id": "a887d463",
   "metadata": {},
   "outputs": [],
   "source": [
    "classifier = Sequential([\n",
    "    Convolution2D(64,3,3, input_shape=(256,256,3), activation='relu'),\n",
    "    MaxPooling2D(pool_size = (2,2)),\n",
    "    \n",
    "    Convolution2D(32,3,3, activation='relu'),\n",
    "    MaxPooling2D(pool_size = (2,2)),\n",
    "    \n",
    "    Flatten(),\n",
    "    \n",
    "    Dense(256, activation = 'relu'),\n",
    "    Dense(1, activation = 'sigmoid')\n",
    "])"
   ]
  },
  {
   "cell_type": "code",
   "execution_count": 6,
   "id": "2828a903",
   "metadata": {},
   "outputs": [],
   "source": [
    "classifier.compile(optimizer='adam', loss='binary_crossentropy', metrics = ['accuracy'])"
   ]
  },
  {
   "cell_type": "code",
   "execution_count": 7,
   "id": "9ddecc55",
   "metadata": {},
   "outputs": [
    {
     "name": "stdout",
     "output_type": "stream",
     "text": [
      "Epoch 1/90\n"
     ]
    },
    {
     "name": "stderr",
     "output_type": "stream",
     "text": [
      "2023-08-30 11:10:37.395122: I tensorflow/core/common_runtime/executor.cc:1197] [/device:CPU:0] (DEBUG INFO) Executor start aborting (this does not indicate an error and you can ignore this message): INVALID_ARGUMENT: You must feed a value for placeholder tensor 'Placeholder/_0' with dtype int32\n",
      "\t [[{{node Placeholder/_0}}]]\n"
     ]
    },
    {
     "name": "stdout",
     "output_type": "stream",
     "text": [
      "60/60 [==============================] - ETA: 0s - loss: 0.6039 - accuracy: 0.6656"
     ]
    },
    {
     "name": "stderr",
     "output_type": "stream",
     "text": [
      "2023-08-30 11:11:27.934118: I tensorflow/core/common_runtime/executor.cc:1197] [/device:CPU:0] (DEBUG INFO) Executor start aborting (this does not indicate an error and you can ignore this message): INVALID_ARGUMENT: You must feed a value for placeholder tensor 'Placeholder/_0' with dtype int32\n",
      "\t [[{{node Placeholder/_0}}]]\n"
     ]
    },
    {
     "name": "stdout",
     "output_type": "stream",
     "text": [
      "60/60 [==============================] - 60s 987ms/step - loss: 0.6039 - accuracy: 0.6656 - val_loss: 0.1704 - val_accuracy: 0.9345\n",
      "Epoch 2/90\n",
      "60/60 [==============================] - 52s 859ms/step - loss: 0.3320 - accuracy: 0.8661 - val_loss: 0.2925 - val_accuracy: 0.9371\n",
      "Epoch 3/90\n",
      "60/60 [==============================] - 50s 837ms/step - loss: 0.2621 - accuracy: 0.8979 - val_loss: 0.2672 - val_accuracy: 0.9421\n",
      "Epoch 4/90\n",
      "60/60 [==============================] - 50s 830ms/step - loss: 0.2111 - accuracy: 0.9180 - val_loss: 0.1943 - val_accuracy: 0.9555\n",
      "Epoch 5/90\n",
      "60/60 [==============================] - 50s 835ms/step - loss: 0.1912 - accuracy: 0.9265 - val_loss: 0.2420 - val_accuracy: 0.9523\n",
      "Epoch 6/90\n",
      "60/60 [==============================] - 50s 830ms/step - loss: 0.1661 - accuracy: 0.9328 - val_loss: 0.1642 - val_accuracy: 0.9625\n",
      "Epoch 7/90\n",
      "60/60 [==============================] - 50s 836ms/step - loss: 0.1754 - accuracy: 0.9407 - val_loss: 0.2050 - val_accuracy: 0.9549\n",
      "Epoch 8/90\n",
      "60/60 [==============================] - 50s 840ms/step - loss: 0.1537 - accuracy: 0.9434 - val_loss: 0.2321 - val_accuracy: 0.9542\n",
      "Epoch 9/90\n",
      "60/60 [==============================] - 50s 835ms/step - loss: 0.1478 - accuracy: 0.9497 - val_loss: 0.0803 - val_accuracy: 0.9758\n",
      "Epoch 10/90\n",
      "60/60 [==============================] - 50s 827ms/step - loss: 0.1381 - accuracy: 0.9508 - val_loss: 0.1777 - val_accuracy: 0.9561\n",
      "Epoch 11/90\n",
      "60/60 [==============================] - 50s 831ms/step - loss: 0.1508 - accuracy: 0.9481 - val_loss: 0.1160 - val_accuracy: 0.9676\n",
      "Epoch 12/90\n",
      "60/60 [==============================] - 53s 878ms/step - loss: 0.1261 - accuracy: 0.9587 - val_loss: 0.0908 - val_accuracy: 0.9733\n",
      "Epoch 13/90\n",
      "60/60 [==============================] - 53s 887ms/step - loss: 0.0986 - accuracy: 0.9619 - val_loss: 0.1966 - val_accuracy: 0.9593\n",
      "Epoch 14/90\n",
      "60/60 [==============================] - 53s 893ms/step - loss: 0.1186 - accuracy: 0.9603 - val_loss: 0.1638 - val_accuracy: 0.9599\n",
      "Epoch 15/90\n",
      "60/60 [==============================] - 56s 935ms/step - loss: 0.0960 - accuracy: 0.9672 - val_loss: 0.1396 - val_accuracy: 0.9701\n",
      "Epoch 16/90\n",
      "60/60 [==============================] - 55s 914ms/step - loss: 0.1131 - accuracy: 0.9635 - val_loss: 0.0775 - val_accuracy: 0.9777\n",
      "Epoch 17/90\n",
      "60/60 [==============================] - 52s 876ms/step - loss: 0.1298 - accuracy: 0.9529 - val_loss: 0.0953 - val_accuracy: 0.9720\n",
      "Epoch 18/90\n",
      "60/60 [==============================] - 54s 898ms/step - loss: 0.1073 - accuracy: 0.9656 - val_loss: 0.1254 - val_accuracy: 0.9650\n",
      "Epoch 19/90\n",
      "60/60 [==============================] - 50s 843ms/step - loss: 0.0963 - accuracy: 0.9624 - val_loss: 0.1075 - val_accuracy: 0.9701\n",
      "Epoch 20/90\n",
      "60/60 [==============================] - 51s 845ms/step - loss: 0.1277 - accuracy: 0.9529 - val_loss: 0.1015 - val_accuracy: 0.9657\n",
      "Epoch 21/90\n",
      "60/60 [==============================] - 51s 846ms/step - loss: 0.0903 - accuracy: 0.9667 - val_loss: 0.0974 - val_accuracy: 0.9727\n",
      "Epoch 22/90\n",
      "60/60 [==============================] - 54s 904ms/step - loss: 0.1210 - accuracy: 0.9571 - val_loss: 0.1599 - val_accuracy: 0.9523\n",
      "Epoch 23/90\n",
      "60/60 [==============================] - 53s 886ms/step - loss: 0.1045 - accuracy: 0.9640 - val_loss: 0.1658 - val_accuracy: 0.9587\n",
      "Epoch 24/90\n",
      "60/60 [==============================] - 52s 868ms/step - loss: 0.0948 - accuracy: 0.9656 - val_loss: 0.1586 - val_accuracy: 0.9574\n",
      "Epoch 25/90\n",
      "60/60 [==============================] - 52s 871ms/step - loss: 0.1065 - accuracy: 0.9598 - val_loss: 0.1052 - val_accuracy: 0.9644\n",
      "Epoch 26/90\n",
      "60/60 [==============================] - 53s 880ms/step - loss: 0.0846 - accuracy: 0.9672 - val_loss: 0.0788 - val_accuracy: 0.9765\n",
      "Epoch 27/90\n",
      "60/60 [==============================] - 51s 858ms/step - loss: 0.0959 - accuracy: 0.9667 - val_loss: 0.1185 - val_accuracy: 0.9612\n",
      "Epoch 28/90\n",
      "60/60 [==============================] - 51s 845ms/step - loss: 0.1005 - accuracy: 0.9651 - val_loss: 0.0984 - val_accuracy: 0.9657\n",
      "Epoch 29/90\n",
      "60/60 [==============================] - 51s 848ms/step - loss: 0.0845 - accuracy: 0.9714 - val_loss: 0.1062 - val_accuracy: 0.9669\n",
      "Epoch 30/90\n",
      "60/60 [==============================] - 50s 838ms/step - loss: 0.0836 - accuracy: 0.9683 - val_loss: 0.0963 - val_accuracy: 0.9701\n",
      "Epoch 31/90\n",
      "60/60 [==============================] - 50s 837ms/step - loss: 0.0872 - accuracy: 0.9698 - val_loss: 0.1143 - val_accuracy: 0.9650\n",
      "Epoch 32/90\n",
      "60/60 [==============================] - 50s 837ms/step - loss: 0.0892 - accuracy: 0.9709 - val_loss: 0.0658 - val_accuracy: 0.9828\n",
      "Epoch 33/90\n",
      "60/60 [==============================] - 54s 893ms/step - loss: 0.0856 - accuracy: 0.9698 - val_loss: 0.0927 - val_accuracy: 0.9688\n",
      "Epoch 34/90\n",
      "60/60 [==============================] - 55s 916ms/step - loss: 0.1200 - accuracy: 0.9534 - val_loss: 0.1004 - val_accuracy: 0.9650\n",
      "Epoch 35/90\n",
      "60/60 [==============================] - 53s 881ms/step - loss: 0.0759 - accuracy: 0.9746 - val_loss: 0.0599 - val_accuracy: 0.9854\n",
      "Epoch 36/90\n",
      "60/60 [==============================] - 54s 909ms/step - loss: 0.0883 - accuracy: 0.9683 - val_loss: 0.2090 - val_accuracy: 0.9599\n",
      "Epoch 37/90\n",
      "60/60 [==============================] - 54s 899ms/step - loss: 0.0728 - accuracy: 0.9725 - val_loss: 0.0831 - val_accuracy: 0.9746\n",
      "Epoch 38/90\n",
      "60/60 [==============================] - 50s 853ms/step - loss: 0.0724 - accuracy: 0.9735 - val_loss: 0.1126 - val_accuracy: 0.9714\n",
      "Epoch 39/90\n",
      "60/60 [==============================] - 55s 916ms/step - loss: 0.0824 - accuracy: 0.9714 - val_loss: 0.0804 - val_accuracy: 0.9790\n",
      "Epoch 40/90\n",
      "60/60 [==============================] - 53s 883ms/step - loss: 0.0829 - accuracy: 0.9677 - val_loss: 0.2091 - val_accuracy: 0.9612\n",
      "Epoch 41/90\n",
      "60/60 [==============================] - 52s 868ms/step - loss: 0.0781 - accuracy: 0.9720 - val_loss: 0.0848 - val_accuracy: 0.9739\n",
      "Epoch 42/90\n",
      "60/60 [==============================] - 52s 860ms/step - loss: 0.0765 - accuracy: 0.9751 - val_loss: 0.0835 - val_accuracy: 0.9714\n",
      "Epoch 43/90\n",
      "60/60 [==============================] - 53s 901ms/step - loss: 0.0790 - accuracy: 0.9720 - val_loss: 0.0803 - val_accuracy: 0.9739\n",
      "Epoch 44/90\n",
      "60/60 [==============================] - 54s 902ms/step - loss: 0.0790 - accuracy: 0.9688 - val_loss: 0.1073 - val_accuracy: 0.9695\n",
      "Epoch 45/90\n",
      "60/60 [==============================] - 53s 879ms/step - loss: 0.0690 - accuracy: 0.9767 - val_loss: 0.0975 - val_accuracy: 0.9733\n",
      "Epoch 46/90\n",
      "60/60 [==============================] - 52s 876ms/step - loss: 0.0817 - accuracy: 0.9698 - val_loss: 0.0616 - val_accuracy: 0.9784\n",
      "Epoch 47/90\n",
      "60/60 [==============================] - 53s 877ms/step - loss: 0.0766 - accuracy: 0.9714 - val_loss: 0.0685 - val_accuracy: 0.9752\n",
      "Epoch 48/90\n",
      "60/60 [==============================] - 53s 877ms/step - loss: 0.0727 - accuracy: 0.9720 - val_loss: 0.0648 - val_accuracy: 0.9758\n",
      "Epoch 49/90\n",
      "60/60 [==============================] - 53s 886ms/step - loss: 0.0630 - accuracy: 0.9810 - val_loss: 0.0723 - val_accuracy: 0.9809\n",
      "Epoch 50/90\n",
      "60/60 [==============================] - 54s 908ms/step - loss: 0.0493 - accuracy: 0.9847 - val_loss: 0.0580 - val_accuracy: 0.9777\n",
      "Epoch 51/90\n",
      "60/60 [==============================] - 52s 872ms/step - loss: 0.0746 - accuracy: 0.9720 - val_loss: 0.1076 - val_accuracy: 0.9790\n",
      "Epoch 52/90\n",
      "60/60 [==============================] - 56s 944ms/step - loss: 0.0631 - accuracy: 0.9741 - val_loss: 0.1120 - val_accuracy: 0.9727\n",
      "Epoch 53/90\n",
      "60/60 [==============================] - 53s 882ms/step - loss: 0.0613 - accuracy: 0.9778 - val_loss: 0.1108 - val_accuracy: 0.9727\n",
      "Epoch 54/90\n",
      "60/60 [==============================] - 53s 882ms/step - loss: 0.0677 - accuracy: 0.9730 - val_loss: 0.0546 - val_accuracy: 0.9866\n",
      "Epoch 55/90\n",
      "60/60 [==============================] - 54s 908ms/step - loss: 0.0724 - accuracy: 0.9735 - val_loss: 0.0799 - val_accuracy: 0.9809\n",
      "Epoch 56/90\n",
      "60/60 [==============================] - 53s 885ms/step - loss: 0.0613 - accuracy: 0.9810 - val_loss: 0.0989 - val_accuracy: 0.9758\n",
      "Epoch 57/90\n",
      "60/60 [==============================] - 55s 925ms/step - loss: 0.0687 - accuracy: 0.9788 - val_loss: 0.1194 - val_accuracy: 0.9701\n",
      "Epoch 58/90\n"
     ]
    },
    {
     "name": "stdout",
     "output_type": "stream",
     "text": [
      "60/60 [==============================] - 55s 921ms/step - loss: 0.0573 - accuracy: 0.9804 - val_loss: 0.1282 - val_accuracy: 0.9708\n",
      "Epoch 59/90\n",
      "60/60 [==============================] - 56s 931ms/step - loss: 0.0553 - accuracy: 0.9810 - val_loss: 0.0862 - val_accuracy: 0.9765\n",
      "Epoch 60/90\n",
      "60/60 [==============================] - 54s 892ms/step - loss: 0.0676 - accuracy: 0.9762 - val_loss: 0.1159 - val_accuracy: 0.9688\n",
      "Epoch 61/90\n",
      "60/60 [==============================] - 50s 836ms/step - loss: 0.0739 - accuracy: 0.9720 - val_loss: 0.0828 - val_accuracy: 0.9733\n",
      "Epoch 62/90\n",
      "60/60 [==============================] - 50s 839ms/step - loss: 0.0622 - accuracy: 0.9772 - val_loss: 0.0742 - val_accuracy: 0.9758\n",
      "Epoch 63/90\n",
      "60/60 [==============================] - 50s 839ms/step - loss: 0.0658 - accuracy: 0.9794 - val_loss: 0.0899 - val_accuracy: 0.9758\n",
      "Epoch 64/90\n",
      "60/60 [==============================] - 50s 837ms/step - loss: 0.0537 - accuracy: 0.9810 - val_loss: 0.0854 - val_accuracy: 0.9746\n",
      "Epoch 65/90\n",
      "60/60 [==============================] - 50s 834ms/step - loss: 0.0671 - accuracy: 0.9746 - val_loss: 0.0650 - val_accuracy: 0.9777\n",
      "Epoch 66/90\n",
      "60/60 [==============================] - 51s 841ms/step - loss: 0.0718 - accuracy: 0.9730 - val_loss: 0.0901 - val_accuracy: 0.9765\n",
      "Epoch 67/90\n",
      "60/60 [==============================] - 53s 882ms/step - loss: 0.0595 - accuracy: 0.9810 - val_loss: 0.0512 - val_accuracy: 0.9809\n",
      "Epoch 68/90\n",
      "60/60 [==============================] - 53s 883ms/step - loss: 0.0771 - accuracy: 0.9677 - val_loss: 0.0882 - val_accuracy: 0.9771\n",
      "Epoch 69/90\n",
      "60/60 [==============================] - 53s 878ms/step - loss: 0.0647 - accuracy: 0.9767 - val_loss: 0.0673 - val_accuracy: 0.9771\n",
      "Epoch 70/90\n",
      "60/60 [==============================] - 52s 863ms/step - loss: 0.0505 - accuracy: 0.9820 - val_loss: 0.0509 - val_accuracy: 0.9854\n",
      "Epoch 71/90\n",
      "60/60 [==============================] - 53s 881ms/step - loss: 0.0685 - accuracy: 0.9741 - val_loss: 0.0767 - val_accuracy: 0.9771\n",
      "Epoch 72/90\n",
      "60/60 [==============================] - 52s 860ms/step - loss: 0.0591 - accuracy: 0.9794 - val_loss: 0.0638 - val_accuracy: 0.9828\n",
      "Epoch 73/90\n",
      "60/60 [==============================] - 51s 847ms/step - loss: 0.0730 - accuracy: 0.9725 - val_loss: 0.0657 - val_accuracy: 0.9797\n",
      "Epoch 74/90\n",
      "60/60 [==============================] - 50s 827ms/step - loss: 0.0668 - accuracy: 0.9757 - val_loss: 0.0796 - val_accuracy: 0.9803\n",
      "Epoch 75/90\n",
      "60/60 [==============================] - 49s 826ms/step - loss: 0.0520 - accuracy: 0.9847 - val_loss: 0.0504 - val_accuracy: 0.9854\n",
      "Epoch 76/90\n",
      "60/60 [==============================] - 49s 825ms/step - loss: 0.0662 - accuracy: 0.9788 - val_loss: 0.1041 - val_accuracy: 0.9752\n",
      "Epoch 77/90\n",
      "60/60 [==============================] - 49s 822ms/step - loss: 0.0656 - accuracy: 0.9788 - val_loss: 0.0957 - val_accuracy: 0.9746\n",
      "Epoch 78/90\n",
      "60/60 [==============================] - 49s 826ms/step - loss: 0.0757 - accuracy: 0.9730 - val_loss: 0.1161 - val_accuracy: 0.9720\n",
      "Epoch 79/90\n",
      "60/60 [==============================] - 50s 829ms/step - loss: 0.0605 - accuracy: 0.9778 - val_loss: 0.0730 - val_accuracy: 0.9797\n",
      "Epoch 80/90\n",
      "60/60 [==============================] - 51s 852ms/step - loss: 0.0547 - accuracy: 0.9804 - val_loss: 0.0974 - val_accuracy: 0.9739\n",
      "Epoch 81/90\n",
      "60/60 [==============================] - 53s 882ms/step - loss: 0.0512 - accuracy: 0.9799 - val_loss: 0.0707 - val_accuracy: 0.9784\n",
      "Epoch 82/90\n",
      "60/60 [==============================] - 50s 834ms/step - loss: 0.0597 - accuracy: 0.9772 - val_loss: 0.0745 - val_accuracy: 0.9784\n",
      "Epoch 83/90\n",
      "60/60 [==============================] - 50s 829ms/step - loss: 0.0430 - accuracy: 0.9847 - val_loss: 0.0805 - val_accuracy: 0.9777\n",
      "Epoch 84/90\n",
      "60/60 [==============================] - 50s 828ms/step - loss: 0.0419 - accuracy: 0.9831 - val_loss: 0.1083 - val_accuracy: 0.9765\n",
      "Epoch 85/90\n",
      "60/60 [==============================] - 50s 830ms/step - loss: 0.0648 - accuracy: 0.9783 - val_loss: 0.0478 - val_accuracy: 0.9828\n",
      "Epoch 86/90\n",
      "60/60 [==============================] - 50s 829ms/step - loss: 0.0485 - accuracy: 0.9799 - val_loss: 0.0691 - val_accuracy: 0.9803\n",
      "Epoch 87/90\n",
      "60/60 [==============================] - 50s 829ms/step - loss: 0.0475 - accuracy: 0.9820 - val_loss: 0.0952 - val_accuracy: 0.9752\n",
      "Epoch 88/90\n",
      "60/60 [==============================] - 50s 829ms/step - loss: 0.0483 - accuracy: 0.9815 - val_loss: 0.0426 - val_accuracy: 0.9873\n",
      "Epoch 89/90\n",
      "60/60 [==============================] - 51s 846ms/step - loss: 0.0477 - accuracy: 0.9847 - val_loss: 0.0785 - val_accuracy: 0.9784\n",
      "Epoch 90/90\n",
      "60/60 [==============================] - 50s 840ms/step - loss: 0.0392 - accuracy: 0.9852 - val_loss: 0.1117 - val_accuracy: 0.9733\n"
     ]
    },
    {
     "data": {
      "text/plain": [
       "<keras.callbacks.History at 0x13d685a20>"
      ]
     },
     "execution_count": 7,
     "metadata": {},
     "output_type": "execute_result"
    }
   ],
   "source": [
    "steps_per_epoch = len(training_data)\n",
    "\n",
    "classifier.fit(training_data, epochs=90, steps_per_epoch=steps_per_epoch, workers=1,\n",
    "                    validation_data=test_data, validation_steps=validation_steps)"
   ]
  },
  {
   "cell_type": "code",
   "execution_count": 8,
   "id": "d4bca551",
   "metadata": {},
   "outputs": [],
   "source": [
    "classifier.save(\"OUTPUT/ScratchModel.h5\")"
   ]
  },
  {
   "cell_type": "code",
   "execution_count": 9,
   "id": "f9cbe66e",
   "metadata": {},
   "outputs": [
    {
     "name": "stdout",
     "output_type": "stream",
     "text": [
      "\r",
      " 1/50 [..............................] - ETA: 8s - loss: 9.8795e-04 - accuracy: 1.0000"
     ]
    },
    {
     "name": "stderr",
     "output_type": "stream",
     "text": [
      "2023-08-30 12:28:29.222365: I tensorflow/core/common_runtime/executor.cc:1197] [/device:CPU:0] (DEBUG INFO) Executor start aborting (this does not indicate an error and you can ignore this message): INVALID_ARGUMENT: You must feed a value for placeholder tensor 'Placeholder/_0' with dtype int32\n",
      "\t [[{{node Placeholder/_0}}]]\n"
     ]
    },
    {
     "name": "stdout",
     "output_type": "stream",
     "text": [
      "50/50 [==============================] - 8s 167ms/step - loss: 0.1117 - accuracy: 0.9733\n"
     ]
    }
   ],
   "source": [
    "_, accuracy = classifier.evaluate(test_data, steps = validation_steps)"
   ]
  },
  {
   "cell_type": "code",
   "execution_count": 10,
   "id": "ab21c387",
   "metadata": {},
   "outputs": [
    {
     "name": "stdout",
     "output_type": "stream",
     "text": [
      "ScratchModel accuracy : 0.9732994437217712\n"
     ]
    }
   ],
   "source": [
    "print('ScratchModel accuracy :',accuracy)"
   ]
  },
  {
   "cell_type": "markdown",
   "id": "b01a2469",
   "metadata": {},
   "source": [
    "# Using pre-trained Models"
   ]
  },
  {
   "cell_type": "code",
   "execution_count": 11,
   "id": "cd020cb3",
   "metadata": {},
   "outputs": [],
   "source": [
    "# class Wrapper(tf.keras.Model):\n",
    "#     def __init__(self, base_model):\n",
    "#         super(Wrapper, self).__init__()\n",
    "        \n",
    "#         self.base_model = base_model\n",
    "#         self.average_pooling_layer = AveragePooling2D(name=\"polling\")\n",
    "#         self.flatten = Flatten(name=\"flatten\")\n",
    "#         self.dense = Dense(64, activation=\"relu\")\n",
    "#         self.dropout = Dropout(0.5)\n",
    "#         self.output_layer = Dense(2, activation=\"softmax\")\n",
    "        \n",
    "#     def call(self, inputs):\n",
    "#         x = self.base_model(inputs)\n",
    "#         x = self.average_pooling_layer(x)\n",
    "#         x = self.flatten(x)\n",
    "#         x = self.dense(x)\n",
    "#         x = self.dropout(x)\n",
    "#         output = self.output_layer(x)\n",
    "#         return output"
   ]
  },
  {
   "cell_type": "code",
   "execution_count": 12,
   "id": "ba8ec69a",
   "metadata": {},
   "outputs": [],
   "source": [
    "# base_learning_rate = 0.0001\n",
    "# EPOCHS = 10"
   ]
  },
  {
   "cell_type": "markdown",
   "id": "85a8ef22",
   "metadata": {},
   "source": [
    "## ResNet"
   ]
  },
  {
   "cell_type": "code",
   "execution_count": 13,
   "id": "7fd34df8",
   "metadata": {},
   "outputs": [],
   "source": [
    "# from tensorflow.keras.applications import ResNet152V2"
   ]
  },
  {
   "cell_type": "code",
   "execution_count": 14,
   "id": "5f04eeb9",
   "metadata": {},
   "outputs": [],
   "source": [
    "# res_net = ResNet152V2(include_top=False, weights='imagenet', input_shape=(256,256,3))"
   ]
  },
  {
   "cell_type": "code",
   "execution_count": 15,
   "id": "3a63fb2f",
   "metadata": {},
   "outputs": [],
   "source": [
    "# res_net.trainable = False\n",
    "# res_net_classifier = Wrapper(res_net)\n",
    "# res_net_classifier.compile(optimizer=Adam(learning_rate=base_learning_rate),\n",
    "#               loss='binary_crossentropy', metrics=['accuracy'])"
   ]
  },
  {
   "cell_type": "code",
   "execution_count": 16,
   "id": "2e2122ff",
   "metadata": {},
   "outputs": [],
   "source": [
    "# res_net_classifier.fit(training_data, epochs=EPOCHS, validation_data=test_data, validation_steps=validation_steps)"
   ]
  }
 ],
 "metadata": {
  "kernelspec": {
   "display_name": "Python 3 (ipykernel)",
   "language": "python",
   "name": "python3"
  },
  "language_info": {
   "codemirror_mode": {
    "name": "ipython",
    "version": 3
   },
   "file_extension": ".py",
   "mimetype": "text/x-python",
   "name": "python",
   "nbconvert_exporter": "python",
   "pygments_lexer": "ipython3",
   "version": "3.10.9"
  }
 },
 "nbformat": 4,
 "nbformat_minor": 5
}
