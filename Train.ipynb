{
 "cells": [
  {
   "cell_type": "markdown",
   "id": "4ec4fda2",
   "metadata": {},
   "source": [
    "# InitialSetup"
   ]
  },
  {
   "cell_type": "code",
   "execution_count": null,
   "id": "8501625f",
   "metadata": {},
   "outputs": [],
   "source": [
    "import os\n",
    "import shutil\n",
    "\n",
    "if not os.path.exists('gen_data_set/'):\n",
    "    raise Exception(\"Generated dataset not found, pls run 'SetupDataset' first.\")\n",
    "    \n",
    "if os.path.exists('OUTPUT/'):\n",
    "    shutil.rmtree('OUTPUT/')\n",
    "    \n",
    "os.makedirs('OUTPUT/')"
   ]
  },
  {
   "cell_type": "code",
   "execution_count": null,
   "id": "1e3d70ea",
   "metadata": {},
   "outputs": [],
   "source": [
    "import tensorflow as tf\n",
    "from tensorflow.keras.models import Sequential\n",
    "from tensorflow.keras.layers import Dropout, AveragePooling2D, MaxPooling2D, Convolution2D, Flatten, Dense\n",
    "from tensorflow.keras.optimizers import Adam"
   ]
  },
  {
   "cell_type": "markdown",
   "id": "07270c5e",
   "metadata": {},
   "source": [
    "# Loading dataset"
   ]
  },
  {
   "cell_type": "code",
   "execution_count": null,
   "id": "1545771b",
   "metadata": {},
   "outputs": [],
   "source": [
    "from keras.preprocessing.image import ImageDataGenerator\n",
    "\n",
    "train_gen = ImageDataGenerator(rescale=1./255, brightness_range=[0.2,1.0], shear_range=0.2,\n",
    "                                    fill_mode = 'nearest', width_shift_range=0.2, rotation_range=40,\n",
    "                                   height_shift_range=0.2, horizontal_flip=True, zoom_range=0.2)\n",
    "\n",
    "\n",
    "test_gen = ImageDataGenerator(rescale=1./255)\n",
    "\n",
    "training_data = train_gen.flow_from_directory('gen_data_set/train', target_size=(265,256), \n",
    "                                                 batch_size=32, class_mode='binary')\n",
    "\n",
    "test_data = test_gen.flow_from_directory('gen_data_set/test', target_size=(256, 256), \n",
    "                                            batch_size=32, class_mode='binary')"
   ]
  },
  {
   "cell_type": "markdown",
   "id": "e9eef3f6",
   "metadata": {},
   "source": [
    "# Training"
   ]
  },
  {
   "cell_type": "code",
   "execution_count": null,
   "id": "71e48b41",
   "metadata": {},
   "outputs": [],
   "source": [
    "validation_steps = len(test_data)"
   ]
  },
  {
   "cell_type": "markdown",
   "id": "215de317",
   "metadata": {},
   "source": [
    "# Training model from scratch"
   ]
  },
  {
   "cell_type": "code",
   "execution_count": null,
   "id": "a887d463",
   "metadata": {},
   "outputs": [],
   "source": [
    "classifier = Sequential([\n",
    "    Convolution2D(64,3,3, input_shape=(256,256,3), activation='relu'),\n",
    "    MaxPooling2D(pool_size = (2,2)),\n",
    "    \n",
    "    Convolution2D(32,3,3, activation='relu'),\n",
    "    MaxPooling2D(pool_size = (2,2)),\n",
    "    \n",
    "    Flatten(),\n",
    "    \n",
    "    Dense(256, activation = 'relu'),\n",
    "    Dense(1, activation = 'sigmoid')\n",
    "])"
   ]
  },
  {
   "cell_type": "code",
   "execution_count": null,
   "id": "2828a903",
   "metadata": {},
   "outputs": [],
   "source": [
    "classifier.compile(optimizer='adam', loss='binary_crossentropy', metrics = ['accuracy'])"
   ]
  },
  {
   "cell_type": "code",
   "execution_count": null,
   "id": "9ddecc55",
   "metadata": {},
   "outputs": [],
   "source": [
    "steps_per_epoch = len(training_data)\n",
    "\n",
    "classifier.fit(training_data, epochs=90, steps_per_epoch=steps_per_epoch, workers=1,\n",
    "                    validation_data=test_data, validation_steps=validation_steps)"
   ]
  },
  {
   "cell_type": "code",
   "execution_count": null,
   "id": "d4bca551",
   "metadata": {},
   "outputs": [],
   "source": [
    "classifier.save(\"OUTPUT/ScratchModel.h5\")"
   ]
  },
  {
   "cell_type": "code",
   "execution_count": null,
   "id": "f9cbe66e",
   "metadata": {},
   "outputs": [],
   "source": [
    "_, accuracy = classifier.evaluate(test_data, steps = validation_steps)"
   ]
  },
  {
   "cell_type": "code",
   "execution_count": null,
   "id": "ab21c387",
   "metadata": {},
   "outputs": [],
   "source": [
    "print('ScratchModel accuracy :',accuracy)"
   ]
  },
  {
   "cell_type": "markdown",
   "id": "b01a2469",
   "metadata": {},
   "source": [
    "# Using pre-trained Models"
   ]
  },
  {
   "cell_type": "code",
   "execution_count": null,
   "id": "cd020cb3",
   "metadata": {},
   "outputs": [],
   "source": [
    "class Wrapper(tf.keras.Model):\n",
    "    def __init__(self, base_model):\n",
    "        super(Wrapper, self).__init__()\n",
    "        \n",
    "        self.base_model = base_model\n",
    "        self.average_pooling_layer = AveragePooling2D(name=\"polling\")\n",
    "        self.flatten = Flatten(name=\"flatten\")\n",
    "        self.dense = Dense(64, activation=\"relu\")\n",
    "        self.dropout = Dropout(0.5)\n",
    "        self.output_layer = Dense(2, activation=\"softmax\")\n",
    "        \n",
    "    def call(self, inputs):\n",
    "        x = self.base_model(inputs)\n",
    "        x = self.average_pooling_layer(x)\n",
    "        x = self.flatten(x)\n",
    "        x = self.dense(x)\n",
    "        x = self.dropout(x)\n",
    "        output = self.output_layer(x)\n",
    "        return output"
   ]
  },
  {
   "cell_type": "code",
   "execution_count": null,
   "id": "ba8ec69a",
   "metadata": {},
   "outputs": [],
   "source": [
    "base_learning_rate = 0.0001\n",
    "EPOCHS = 10"
   ]
  },
  {
   "cell_type": "markdown",
   "id": "85a8ef22",
   "metadata": {},
   "source": [
    "## ResNet"
   ]
  },
  {
   "cell_type": "code",
   "execution_count": null,
   "id": "7fd34df8",
   "metadata": {},
   "outputs": [],
   "source": [
    "from tensorflow.keras.applications import ResNet152V2"
   ]
  },
  {
   "cell_type": "code",
   "execution_count": null,
   "id": "5f04eeb9",
   "metadata": {},
   "outputs": [],
   "source": [
    "res_net = ResNet152V2(include_top=False, weights='imagenet', input_shape=(256, 256, 3))"
   ]
  },
  {
   "cell_type": "code",
   "execution_count": null,
   "id": "3a63fb2f",
   "metadata": {},
   "outputs": [],
   "source": [
    "res_net.trainable = False\n",
    "res_net_classifier = Wrapper(res_net)\n",
    "res_net_classifier.compile(optimizer=Adam(learning_rate=base_learning_rate),\n",
    "              loss='binary_crossentropy', metrics=['accuracy'])"
   ]
  },
  {
   "cell_type": "code",
   "execution_count": null,
   "id": "2e2122ff",
   "metadata": {},
   "outputs": [],
   "source": [
    "res_net_classifier.fit(training_data, epochs=EPOCHS, validation_data=test_data, validation_steps=validation_steps)"
   ]
  },
  {
   "cell_type": "code",
   "execution_count": null,
   "id": "3ed4e462",
   "metadata": {},
   "outputs": [],
   "source": []
  }
 ],
 "metadata": {
  "kernelspec": {
   "display_name": "Python 3 (ipykernel)",
   "language": "python",
   "name": "python3"
  },
  "language_info": {
   "codemirror_mode": {
    "name": "ipython",
    "version": 3
   },
   "file_extension": ".py",
   "mimetype": "text/x-python",
   "name": "python",
   "nbconvert_exporter": "python",
   "pygments_lexer": "ipython3",
   "version": "3.10.9"
  }
 },
 "nbformat": 4,
 "nbformat_minor": 5
}
