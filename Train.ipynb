{
 "cells": [
  {
   "cell_type": "markdown",
   "id": "4ec4fda2",
   "metadata": {},
   "source": [
    "# InitialSetup"
   ]
  },
  {
   "cell_type": "code",
   "execution_count": 1,
   "id": "8501625f",
   "metadata": {},
   "outputs": [],
   "source": [
    "import os\n",
    "import shutil\n",
    "\n",
    "if not os.path.exists('gen_data_set/'):\n",
    "    raise Exception(\"Generated dataset not found, pls run 'SetupDataset' first.\")\n",
    "    \n",
    "if os.path.exists('OUTPUT/'):\n",
    "    shutil.rmtree('OUTPUT/')\n",
    "    \n",
    "os.makedirs('OUTPUT/')"
   ]
  },
  {
   "cell_type": "markdown",
   "id": "07270c5e",
   "metadata": {},
   "source": [
    "# Loading dataset"
   ]
  },
  {
   "cell_type": "code",
   "execution_count": 2,
   "id": "1545771b",
   "metadata": {},
   "outputs": [
    {
     "name": "stderr",
     "output_type": "stream",
     "text": [
      "2023-08-27 17:10:45.987032: I tensorflow/core/platform/cpu_feature_guard.cc:182] This TensorFlow binary is optimized to use available CPU instructions in performance-critical operations.\n",
      "To enable the following instructions: AVX2 FMA, in other operations, rebuild TensorFlow with the appropriate compiler flags.\n"
     ]
    },
    {
     "name": "stdout",
     "output_type": "stream",
     "text": [
      "Found 1890 images belonging to 2 classes.\n",
      "Found 1573 images belonging to 2 classes.\n"
     ]
    }
   ],
   "source": [
    "from keras.preprocessing.image import ImageDataGenerator\n",
    "\n",
    "train_gen = ImageDataGenerator(rescale=1./255, brightness_range=[0.2,1.0], shear_range=0.2,\n",
    "                                    fill_mode = 'nearest', width_shift_range=0.2, rotation_range=40,\n",
    "                                   height_shift_range=0.2, horizontal_flip=True, zoom_range=0.2)\n",
    "\n",
    "\n",
    "test_gen = ImageDataGenerator(rescale=1./255)\n",
    "\n",
    "training_data = train_gen.flow_from_directory('gen_data_set/train', target_size=(265,256), \n",
    "                                                 batch_size=32, class_mode='binary')\n",
    "\n",
    "test_data = test_gen.flow_from_directory('gen_data_set/test', target_size=(256, 256), \n",
    "                                            batch_size=32, class_mode='binary')"
   ]
  },
  {
   "cell_type": "markdown",
   "id": "215de317",
   "metadata": {},
   "source": [
    "# Training model from scratch"
   ]
  },
  {
   "cell_type": "code",
   "execution_count": 3,
   "id": "a887d463",
   "metadata": {},
   "outputs": [],
   "source": [
    "from keras.models import Sequential\n",
    "from keras.layers import MaxPooling2D, Convolution2D, Flatten, Dense\n",
    "\n",
    "classifier = Sequential([\n",
    "    Convolution2D(64,3,3, input_shape=(256,256,3), activation='relu'),\n",
    "    MaxPooling2D(pool_size = (2,2)),\n",
    "    \n",
    "    Convolution2D(32,3,3, activation='relu'),\n",
    "    MaxPooling2D(pool_size = (2,2)),\n",
    "    \n",
    "    Flatten(),\n",
    "    \n",
    "    Dense(256, activation = 'relu'),\n",
    "    Dense(1, activation = 'sigmoid')\n",
    "])"
   ]
  },
  {
   "cell_type": "code",
   "execution_count": 4,
   "id": "2828a903",
   "metadata": {},
   "outputs": [],
   "source": [
    "classifier.compile(optimizer='adam', loss='binary_crossentropy', metrics = ['accuracy'])"
   ]
  },
  {
   "cell_type": "code",
   "execution_count": 5,
   "id": "9ddecc55",
   "metadata": {},
   "outputs": [
    {
     "name": "stdout",
     "output_type": "stream",
     "text": [
      "Epoch 1/90\n"
     ]
    },
    {
     "name": "stderr",
     "output_type": "stream",
     "text": [
      "2023-08-27 17:10:49.393495: I tensorflow/core/common_runtime/executor.cc:1197] [/device:CPU:0] (DEBUG INFO) Executor start aborting (this does not indicate an error and you can ignore this message): INVALID_ARGUMENT: You must feed a value for placeholder tensor 'Placeholder/_0' with dtype int32\n",
      "\t [[{{node Placeholder/_0}}]]\n"
     ]
    },
    {
     "name": "stdout",
     "output_type": "stream",
     "text": [
      "60/60 [==============================] - ETA: 0s - loss: 0.5216 - accuracy: 0.7556"
     ]
    },
    {
     "name": "stderr",
     "output_type": "stream",
     "text": [
      "2023-08-27 17:11:35.649446: I tensorflow/core/common_runtime/executor.cc:1197] [/device:CPU:0] (DEBUG INFO) Executor start aborting (this does not indicate an error and you can ignore this message): INVALID_ARGUMENT: You must feed a value for placeholder tensor 'Placeholder/_0' with dtype int32\n",
      "\t [[{{node Placeholder/_0}}]]\n"
     ]
    },
    {
     "name": "stdout",
     "output_type": "stream",
     "text": [
      "60/60 [==============================] - 56s 908ms/step - loss: 0.5216 - accuracy: 0.7556 - val_loss: 0.1329 - val_accuracy: 0.9472\n",
      "Epoch 2/90\n",
      "60/60 [==============================] - 60s 1s/step - loss: 0.2637 - accuracy: 0.9111 - val_loss: 0.1633 - val_accuracy: 0.9574\n",
      "Epoch 3/90\n",
      "60/60 [==============================] - 54s 900ms/step - loss: 0.2371 - accuracy: 0.9190 - val_loss: 0.2373 - val_accuracy: 0.9479\n",
      "Epoch 4/90\n",
      "60/60 [==============================] - 52s 875ms/step - loss: 0.1845 - accuracy: 0.9402 - val_loss: 0.1309 - val_accuracy: 0.9669\n",
      "Epoch 5/90\n",
      "60/60 [==============================] - 52s 866ms/step - loss: 0.1588 - accuracy: 0.9455 - val_loss: 0.1423 - val_accuracy: 0.9669\n",
      "Epoch 6/90\n",
      "60/60 [==============================] - 52s 862ms/step - loss: 0.1703 - accuracy: 0.9354 - val_loss: 0.0933 - val_accuracy: 0.9758\n",
      "Epoch 7/90\n",
      "60/60 [==============================] - 52s 867ms/step - loss: 0.1759 - accuracy: 0.9365 - val_loss: 0.1857 - val_accuracy: 0.9599\n",
      "Epoch 8/90\n",
      "60/60 [==============================] - 52s 864ms/step - loss: 0.1683 - accuracy: 0.9492 - val_loss: 0.1542 - val_accuracy: 0.9606\n",
      "Epoch 9/90\n",
      "60/60 [==============================] - 52s 862ms/step - loss: 0.1299 - accuracy: 0.9619 - val_loss: 0.2212 - val_accuracy: 0.9542\n",
      "Epoch 10/90\n",
      "60/60 [==============================] - 55s 912ms/step - loss: 0.1190 - accuracy: 0.9593 - val_loss: 0.1387 - val_accuracy: 0.9727\n",
      "Epoch 11/90\n",
      "60/60 [==============================] - 53s 883ms/step - loss: 0.1224 - accuracy: 0.9566 - val_loss: 0.1005 - val_accuracy: 0.9777\n",
      "Epoch 12/90\n",
      "60/60 [==============================] - 52s 859ms/step - loss: 0.1284 - accuracy: 0.9577 - val_loss: 0.1520 - val_accuracy: 0.9695\n",
      "Epoch 13/90\n",
      "60/60 [==============================] - 52s 859ms/step - loss: 0.1670 - accuracy: 0.9413 - val_loss: 0.1177 - val_accuracy: 0.9727\n",
      "Epoch 14/90\n",
      "60/60 [==============================] - 52s 869ms/step - loss: 0.1246 - accuracy: 0.9603 - val_loss: 0.1866 - val_accuracy: 0.9644\n",
      "Epoch 15/90\n",
      "60/60 [==============================] - 52s 863ms/step - loss: 0.1225 - accuracy: 0.9619 - val_loss: 0.1468 - val_accuracy: 0.9644\n",
      "Epoch 16/90\n",
      "60/60 [==============================] - 52s 865ms/step - loss: 0.1270 - accuracy: 0.9524 - val_loss: 0.1046 - val_accuracy: 0.9752\n",
      "Epoch 17/90\n",
      "60/60 [==============================] - 52s 859ms/step - loss: 0.1273 - accuracy: 0.9598 - val_loss: 0.0967 - val_accuracy: 0.9765\n",
      "Epoch 18/90\n",
      "60/60 [==============================] - 52s 861ms/step - loss: 0.1194 - accuracy: 0.9561 - val_loss: 0.0898 - val_accuracy: 0.9720\n",
      "Epoch 19/90\n",
      "60/60 [==============================] - 52s 861ms/step - loss: 0.1159 - accuracy: 0.9561 - val_loss: 0.1730 - val_accuracy: 0.9631\n",
      "Epoch 20/90\n",
      "60/60 [==============================] - 52s 863ms/step - loss: 0.1304 - accuracy: 0.9545 - val_loss: 0.1535 - val_accuracy: 0.9669\n",
      "Epoch 21/90\n",
      "60/60 [==============================] - 52s 860ms/step - loss: 0.0983 - accuracy: 0.9672 - val_loss: 0.1049 - val_accuracy: 0.9727\n",
      "Epoch 22/90\n",
      "60/60 [==============================] - 52s 861ms/step - loss: 0.1108 - accuracy: 0.9571 - val_loss: 0.1087 - val_accuracy: 0.9657\n",
      "Epoch 23/90\n",
      "60/60 [==============================] - 51s 858ms/step - loss: 0.1124 - accuracy: 0.9603 - val_loss: 0.1316 - val_accuracy: 0.9682\n",
      "Epoch 24/90\n",
      "60/60 [==============================] - 52s 862ms/step - loss: 0.1097 - accuracy: 0.9640 - val_loss: 0.1260 - val_accuracy: 0.9701\n",
      "Epoch 25/90\n",
      "60/60 [==============================] - 52s 856ms/step - loss: 0.0898 - accuracy: 0.9704 - val_loss: 0.1548 - val_accuracy: 0.9619\n",
      "Epoch 26/90\n",
      "60/60 [==============================] - 52s 866ms/step - loss: 0.0938 - accuracy: 0.9677 - val_loss: 0.1515 - val_accuracy: 0.9631\n",
      "Epoch 27/90\n",
      "60/60 [==============================] - 52s 863ms/step - loss: 0.1212 - accuracy: 0.9608 - val_loss: 0.1034 - val_accuracy: 0.9669\n",
      "Epoch 28/90\n",
      "60/60 [==============================] - 51s 859ms/step - loss: 0.0989 - accuracy: 0.9667 - val_loss: 0.0891 - val_accuracy: 0.9733\n",
      "Epoch 29/90\n",
      "60/60 [==============================] - 57s 946ms/step - loss: 0.0927 - accuracy: 0.9693 - val_loss: 0.1250 - val_accuracy: 0.9644\n",
      "Epoch 30/90\n",
      "60/60 [==============================] - 55s 919ms/step - loss: 0.0829 - accuracy: 0.9693 - val_loss: 0.0879 - val_accuracy: 0.9758\n",
      "Epoch 31/90\n",
      "60/60 [==============================] - 53s 882ms/step - loss: 0.0812 - accuracy: 0.9735 - val_loss: 0.0954 - val_accuracy: 0.9695\n",
      "Epoch 32/90\n",
      "60/60 [==============================] - 52s 869ms/step - loss: 0.0787 - accuracy: 0.9730 - val_loss: 0.0914 - val_accuracy: 0.9727\n",
      "Epoch 33/90\n",
      "60/60 [==============================] - 52s 868ms/step - loss: 0.0841 - accuracy: 0.9751 - val_loss: 0.0898 - val_accuracy: 0.9752\n",
      "Epoch 34/90\n",
      "60/60 [==============================] - 52s 867ms/step - loss: 0.0891 - accuracy: 0.9646 - val_loss: 0.0744 - val_accuracy: 0.9777\n",
      "Epoch 35/90\n",
      "60/60 [==============================] - 52s 865ms/step - loss: 0.1010 - accuracy: 0.9640 - val_loss: 0.0926 - val_accuracy: 0.9676\n",
      "Epoch 36/90\n",
      "60/60 [==============================] - 52s 867ms/step - loss: 0.0805 - accuracy: 0.9704 - val_loss: 0.0887 - val_accuracy: 0.9720\n",
      "Epoch 37/90\n",
      "60/60 [==============================] - 52s 865ms/step - loss: 0.0859 - accuracy: 0.9720 - val_loss: 0.1008 - val_accuracy: 0.9714\n",
      "Epoch 38/90\n",
      "60/60 [==============================] - 52s 863ms/step - loss: 0.0939 - accuracy: 0.9677 - val_loss: 0.0926 - val_accuracy: 0.9708\n",
      "Epoch 39/90\n",
      "60/60 [==============================] - 52s 871ms/step - loss: 0.1139 - accuracy: 0.9587 - val_loss: 0.1265 - val_accuracy: 0.9638\n",
      "Epoch 40/90\n",
      "60/60 [==============================] - 52s 866ms/step - loss: 0.1048 - accuracy: 0.9593 - val_loss: 0.0884 - val_accuracy: 0.9676\n",
      "Epoch 41/90\n",
      "60/60 [==============================] - 52s 865ms/step - loss: 0.0767 - accuracy: 0.9741 - val_loss: 0.1324 - val_accuracy: 0.9682\n",
      "Epoch 42/90\n",
      "60/60 [==============================] - 52s 860ms/step - loss: 0.0787 - accuracy: 0.9714 - val_loss: 0.0838 - val_accuracy: 0.9733\n",
      "Epoch 43/90\n",
      "60/60 [==============================] - 52s 864ms/step - loss: 0.0912 - accuracy: 0.9661 - val_loss: 0.0813 - val_accuracy: 0.9714\n",
      "Epoch 44/90\n",
      "60/60 [==============================] - 52s 867ms/step - loss: 0.0700 - accuracy: 0.9735 - val_loss: 0.0788 - val_accuracy: 0.9739\n",
      "Epoch 45/90\n",
      "60/60 [==============================] - 52s 876ms/step - loss: 0.0773 - accuracy: 0.9693 - val_loss: 0.1162 - val_accuracy: 0.9695\n",
      "Epoch 46/90\n",
      "60/60 [==============================] - 52s 866ms/step - loss: 0.0745 - accuracy: 0.9720 - val_loss: 0.0758 - val_accuracy: 0.9752\n",
      "Epoch 47/90\n",
      "60/60 [==============================] - 52s 866ms/step - loss: 0.0860 - accuracy: 0.9725 - val_loss: 0.0754 - val_accuracy: 0.9777\n",
      "Epoch 48/90\n",
      "60/60 [==============================] - 52s 863ms/step - loss: 0.0927 - accuracy: 0.9630 - val_loss: 0.0715 - val_accuracy: 0.9777\n",
      "Epoch 49/90\n",
      "60/60 [==============================] - 52s 864ms/step - loss: 0.0724 - accuracy: 0.9767 - val_loss: 0.1149 - val_accuracy: 0.9669\n",
      "Epoch 50/90\n",
      "60/60 [==============================] - 52s 868ms/step - loss: 0.0708 - accuracy: 0.9778 - val_loss: 0.0979 - val_accuracy: 0.9714\n",
      "Epoch 51/90\n",
      "60/60 [==============================] - 52s 860ms/step - loss: 0.0776 - accuracy: 0.9762 - val_loss: 0.1114 - val_accuracy: 0.9669\n",
      "Epoch 52/90\n",
      "60/60 [==============================] - 52s 872ms/step - loss: 0.0641 - accuracy: 0.9772 - val_loss: 0.0726 - val_accuracy: 0.9758\n",
      "Epoch 53/90\n",
      "60/60 [==============================] - 52s 863ms/step - loss: 0.0500 - accuracy: 0.9815 - val_loss: 0.0847 - val_accuracy: 0.9758\n",
      "Epoch 54/90\n",
      "60/60 [==============================] - 52s 864ms/step - loss: 0.0866 - accuracy: 0.9688 - val_loss: 0.1278 - val_accuracy: 0.9638\n",
      "Epoch 55/90\n",
      "60/60 [==============================] - 52s 865ms/step - loss: 0.0732 - accuracy: 0.9720 - val_loss: 0.1089 - val_accuracy: 0.9701\n",
      "Epoch 56/90\n",
      "60/60 [==============================] - 52s 858ms/step - loss: 0.0698 - accuracy: 0.9757 - val_loss: 0.0713 - val_accuracy: 0.9771\n",
      "Epoch 57/90\n",
      "60/60 [==============================] - 52s 863ms/step - loss: 0.0948 - accuracy: 0.9704 - val_loss: 0.1005 - val_accuracy: 0.9688\n",
      "Epoch 58/90\n"
     ]
    },
    {
     "name": "stdout",
     "output_type": "stream",
     "text": [
      "60/60 [==============================] - 52s 863ms/step - loss: 0.0675 - accuracy: 0.9757 - val_loss: 0.0638 - val_accuracy: 0.9784\n",
      "Epoch 59/90\n",
      "60/60 [==============================] - 52s 865ms/step - loss: 0.0557 - accuracy: 0.9820 - val_loss: 0.0611 - val_accuracy: 0.9816\n",
      "Epoch 60/90\n",
      "60/60 [==============================] - 51s 859ms/step - loss: 0.0623 - accuracy: 0.9810 - val_loss: 0.0735 - val_accuracy: 0.9771\n",
      "Epoch 61/90\n",
      "60/60 [==============================] - 52s 870ms/step - loss: 0.0638 - accuracy: 0.9799 - val_loss: 0.0517 - val_accuracy: 0.9854\n",
      "Epoch 62/90\n",
      "60/60 [==============================] - 52s 863ms/step - loss: 0.0767 - accuracy: 0.9730 - val_loss: 0.0645 - val_accuracy: 0.9809\n",
      "Epoch 63/90\n",
      "60/60 [==============================] - 52s 866ms/step - loss: 0.0774 - accuracy: 0.9720 - val_loss: 0.0793 - val_accuracy: 0.9765\n",
      "Epoch 64/90\n",
      "60/60 [==============================] - 52s 864ms/step - loss: 0.0634 - accuracy: 0.9810 - val_loss: 0.0639 - val_accuracy: 0.9784\n",
      "Epoch 65/90\n",
      "60/60 [==============================] - 52s 865ms/step - loss: 0.0565 - accuracy: 0.9799 - val_loss: 0.1369 - val_accuracy: 0.9682\n",
      "Epoch 66/90\n",
      "60/60 [==============================] - 52s 863ms/step - loss: 0.0655 - accuracy: 0.9778 - val_loss: 0.0631 - val_accuracy: 0.9803\n",
      "Epoch 67/90\n",
      "60/60 [==============================] - 52s 860ms/step - loss: 0.0646 - accuracy: 0.9757 - val_loss: 0.1023 - val_accuracy: 0.9714\n",
      "Epoch 68/90\n",
      "60/60 [==============================] - 52s 867ms/step - loss: 0.0535 - accuracy: 0.9810 - val_loss: 0.0591 - val_accuracy: 0.9828\n",
      "Epoch 69/90\n",
      "60/60 [==============================] - 52s 861ms/step - loss: 0.0646 - accuracy: 0.9772 - val_loss: 0.0636 - val_accuracy: 0.9771\n",
      "Epoch 70/90\n",
      "60/60 [==============================] - 52s 864ms/step - loss: 0.0546 - accuracy: 0.9825 - val_loss: 0.0692 - val_accuracy: 0.9784\n",
      "Epoch 71/90\n",
      "60/60 [==============================] - 52s 865ms/step - loss: 0.0493 - accuracy: 0.9836 - val_loss: 0.0916 - val_accuracy: 0.9733\n",
      "Epoch 72/90\n",
      "60/60 [==============================] - 52s 862ms/step - loss: 0.0578 - accuracy: 0.9788 - val_loss: 0.0535 - val_accuracy: 0.9847\n",
      "Epoch 73/90\n",
      "60/60 [==============================] - 52s 862ms/step - loss: 0.0533 - accuracy: 0.9783 - val_loss: 0.0795 - val_accuracy: 0.9765\n",
      "Epoch 74/90\n",
      "60/60 [==============================] - 52s 863ms/step - loss: 0.1057 - accuracy: 0.9630 - val_loss: 0.1175 - val_accuracy: 0.9688\n",
      "Epoch 75/90\n",
      "60/60 [==============================] - 52s 863ms/step - loss: 0.0512 - accuracy: 0.9804 - val_loss: 0.1687 - val_accuracy: 0.9663\n",
      "Epoch 76/90\n",
      "60/60 [==============================] - 52s 862ms/step - loss: 0.0690 - accuracy: 0.9772 - val_loss: 0.0700 - val_accuracy: 0.9771\n",
      "Epoch 77/90\n",
      "60/60 [==============================] - 52s 861ms/step - loss: 0.0573 - accuracy: 0.9799 - val_loss: 0.0809 - val_accuracy: 0.9752\n",
      "Epoch 78/90\n",
      "60/60 [==============================] - 52s 861ms/step - loss: 0.0519 - accuracy: 0.9847 - val_loss: 0.0925 - val_accuracy: 0.9714\n",
      "Epoch 79/90\n",
      "60/60 [==============================] - 52s 860ms/step - loss: 0.0554 - accuracy: 0.9788 - val_loss: 0.0706 - val_accuracy: 0.9841\n",
      "Epoch 80/90\n",
      "60/60 [==============================] - 52s 862ms/step - loss: 0.0698 - accuracy: 0.9804 - val_loss: 0.0584 - val_accuracy: 0.9816\n",
      "Epoch 81/90\n",
      "60/60 [==============================] - 51s 856ms/step - loss: 0.0458 - accuracy: 0.9836 - val_loss: 0.0394 - val_accuracy: 0.9854\n",
      "Epoch 82/90\n",
      "60/60 [==============================] - 52s 864ms/step - loss: 0.0567 - accuracy: 0.9783 - val_loss: 0.0919 - val_accuracy: 0.9771\n",
      "Epoch 83/90\n",
      "60/60 [==============================] - 52s 860ms/step - loss: 0.0593 - accuracy: 0.9762 - val_loss: 0.0454 - val_accuracy: 0.9860\n",
      "Epoch 84/90\n",
      "60/60 [==============================] - 52s 858ms/step - loss: 0.0830 - accuracy: 0.9704 - val_loss: 0.1301 - val_accuracy: 0.9688\n",
      "Epoch 85/90\n",
      "60/60 [==============================] - 52s 865ms/step - loss: 0.1040 - accuracy: 0.9608 - val_loss: 0.1583 - val_accuracy: 0.9504\n",
      "Epoch 86/90\n",
      "60/60 [==============================] - 52s 864ms/step - loss: 0.0697 - accuracy: 0.9772 - val_loss: 0.0671 - val_accuracy: 0.9765\n",
      "Epoch 87/90\n",
      "60/60 [==============================] - 52s 860ms/step - loss: 0.0668 - accuracy: 0.9730 - val_loss: 0.0659 - val_accuracy: 0.9803\n",
      "Epoch 88/90\n",
      "60/60 [==============================] - 52s 861ms/step - loss: 0.0688 - accuracy: 0.9735 - val_loss: 0.0471 - val_accuracy: 0.9866\n",
      "Epoch 89/90\n",
      "60/60 [==============================] - 52s 859ms/step - loss: 0.0609 - accuracy: 0.9778 - val_loss: 0.0469 - val_accuracy: 0.9841\n",
      "Epoch 90/90\n",
      "60/60 [==============================] - 52s 863ms/step - loss: 0.0437 - accuracy: 0.9841 - val_loss: 0.0624 - val_accuracy: 0.9816\n"
     ]
    },
    {
     "data": {
      "text/plain": [
       "<keras.callbacks.History at 0x135a7df60>"
      ]
     },
     "execution_count": 5,
     "metadata": {},
     "output_type": "execute_result"
    }
   ],
   "source": [
    "steps_per_epoch = len(training_data)\n",
    "validation_steps = len(test_data)\n",
    "\n",
    "classifier.fit(training_data, epochs=90, steps_per_epoch=steps_per_epoch, workers=1,\n",
    "                    validation_data=test_data, validation_steps=validation_steps)"
   ]
  },
  {
   "cell_type": "code",
   "execution_count": 6,
   "id": "d4bca551",
   "metadata": {},
   "outputs": [],
   "source": [
    "classifier.save(\"OUTPUT/ScratchModel.h5\")"
   ]
  },
  {
   "cell_type": "code",
   "execution_count": 7,
   "id": "f9cbe66e",
   "metadata": {},
   "outputs": [
    {
     "name": "stdout",
     "output_type": "stream",
     "text": [
      "\r",
      " 1/50 [..............................] - ETA: 7s - loss: 0.0301 - accuracy: 0.9688"
     ]
    },
    {
     "name": "stderr",
     "output_type": "stream",
     "text": [
      "2023-08-27 18:28:58.259992: I tensorflow/core/common_runtime/executor.cc:1197] [/device:CPU:0] (DEBUG INFO) Executor start aborting (this does not indicate an error and you can ignore this message): INVALID_ARGUMENT: You must feed a value for placeholder tensor 'Placeholder/_0' with dtype int32\n",
      "\t [[{{node Placeholder/_0}}]]\n"
     ]
    },
    {
     "name": "stdout",
     "output_type": "stream",
     "text": [
      "50/50 [==============================] - 8s 167ms/step - loss: 0.0624 - accuracy: 0.9816\n"
     ]
    }
   ],
   "source": [
    "_, accuracy = classifier.evaluate(test_data, steps = validation_steps)"
   ]
  },
  {
   "cell_type": "code",
   "execution_count": 8,
   "id": "ab21c387",
   "metadata": {},
   "outputs": [
    {
     "name": "stdout",
     "output_type": "stream",
     "text": [
      "ScratchModel accuracy : 0.9815638661384583\n"
     ]
    }
   ],
   "source": [
    "print('ScratchModel accuracy :',accuracy)"
   ]
  },
  {
   "cell_type": "code",
   "execution_count": null,
   "id": "54d2fb44",
   "metadata": {},
   "outputs": [],
   "source": []
  }
 ],
 "metadata": {
  "kernelspec": {
   "display_name": "Python 3 (ipykernel)",
   "language": "python",
   "name": "python3"
  },
  "language_info": {
   "codemirror_mode": {
    "name": "ipython",
    "version": 3
   },
   "file_extension": ".py",
   "mimetype": "text/x-python",
   "name": "python",
   "nbconvert_exporter": "python",
   "pygments_lexer": "ipython3",
   "version": "3.10.9"
  }
 },
 "nbformat": 4,
 "nbformat_minor": 5
}
