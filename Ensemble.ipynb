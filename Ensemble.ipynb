{
 "cells": [
  {
   "cell_type": "code",
   "execution_count": null,
   "id": "ac8dcc2d",
   "metadata": {},
   "outputs": [],
   "source": [
    "import os\n",
    "\n",
    "if not os.path.exists('Output/'):\n",
    "    raise Exception(\"Models not found, pls run 'Train' first.\")"
   ]
  },
  {
   "cell_type": "code",
   "execution_count": null,
   "id": "8f177872",
   "metadata": {},
   "outputs": [],
   "source": [
    "from tensorflow.keras.preprocessing import image\n",
    "import numpy as np\n",
    "\n",
    "def get_image_arr(path):\n",
    "    img_path = path\n",
    "    img = image.load_img(img_path, target_size=(256, 256))\n",
    "    img_array = image.img_to_array(img)\n",
    "    img_array = np.expand_dims(img_array, axis=0)\n",
    "    img_array /= 255.\n",
    "    return img_array"
   ]
  },
  {
   "cell_type": "code",
   "execution_count": null,
   "id": "427daf65",
   "metadata": {},
   "outputs": [],
   "source": [
    "from tensorflow.keras.models import load_model\n",
    "\n",
    "def predict_covid(image_path):\n",
    "    scratch = load_model('Output/ScratchModel.h5')\n",
    "    resnet = load_model('Output/ResnetModel.h5')\n",
    "    xception = load_model('Output/XceptionModel.h5')\n",
    "    \n",
    "    image = get_image_arr(image_path)\n",
    "    \n",
    "    scratch_result = False if scratch.predict(image) >= 0.5 else True\n",
    "    resnet_result = False if resnet.predict(image) >= 0.5 else True\n",
    "    xception_result = False if xception.predict(image) >= 0.5 else True\n",
    "\n",
    "    return  sum([scratch_result, resnet_result, xception_result]) >= 2"
   ]
  },
  {
   "cell_type": "code",
   "execution_count": null,
   "id": "2e7b5bc4",
   "metadata": {},
   "outputs": [],
   "source": [
    "print(predict_covid('images/covid/1.jpg'))"
   ]
  }
 ],
 "metadata": {
  "kernelspec": {
   "display_name": "Python 3 (ipykernel)",
   "language": "python",
   "name": "python3"
  },
  "language_info": {
   "codemirror_mode": {
    "name": "ipython",
    "version": 3
   },
   "file_extension": ".py",
   "mimetype": "text/x-python",
   "name": "python",
   "nbconvert_exporter": "python",
   "pygments_lexer": "ipython3",
   "version": "3.10.13"
  }
 },
 "nbformat": 4,
 "nbformat_minor": 5
}
